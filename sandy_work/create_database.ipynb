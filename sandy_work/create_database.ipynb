{
 "cells": [
  {
   "cell_type": "code",
   "execution_count": 47,
   "metadata": {},
   "outputs": [],
   "source": [
    "import pandas as pd\n",
    "import sqlite3 "
   ]
  },
  {
   "cell_type": "code",
   "execution_count": 44,
   "metadata": {},
   "outputs": [],
   "source": [
    "games_table = pd.read_csv('database_schema - games_table.csv', index_col='game_id')\n",
    "developer_table = pd.read_csv('database_schema - developer_table.csv', index_col='developer_id')\n",
    "genre_table = pd.read_csv('database_schema - genre_table.csv', index_col='genre_id')\n",
    "platform_table = pd.read_csv('database_schema - platform_table.csv', index_col='platform_id')\n",
    "publisher_table = pd.read_csv('database_schema - publisher_table.csv', index_col='publisher_id')\n",
    "rating_table = pd.read_csv('database_schema - rating_table.csv', index_col='rating_id')"
   ]
  },
  {
   "cell_type": "code",
   "execution_count": 45,
   "metadata": {},
   "outputs": [],
   "source": [
    "conn = sqlite3.connect('video_game_dataset.db')"
   ]
  },
  {
   "cell_type": "code",
   "execution_count": 46,
   "metadata": {},
   "outputs": [],
   "source": [
    "games_table.to_sql(name = 'games_table', con = conn, if_exists = \"append\")\n",
    "developer_table.to_sql(name = 'developer_table', con = conn, if_exists = \"append\")\n",
    "genre_table.to_sql(name = 'genre_table', con = conn, if_exists = \"append\")\n",
    "platform_table.to_sql(name = 'platform_table', con = conn, if_exists = \"append\")\n",
    "publisher_table.to_sql(name = 'publisher_table', con = conn, if_exists = \"append\")\n",
    "rating_table.to_sql(name = 'rating_table', con = conn, if_exists = \"append\")"
   ]
  },
  {
   "cell_type": "code",
   "execution_count": 30,
   "metadata": {},
   "outputs": [
    {
     "data": {
      "text/plain": [
       "'\\nTo do:\\n\\n[] Specify Primary Keys\\n[] Specify Foreihn Keys\\n[] Code to directly convert cleaned dataframe into database tables\\n\\n'"
      ]
     },
     "execution_count": 30,
     "metadata": {},
     "output_type": "execute_result"
    }
   ],
   "source": [
    "\"\"\"\n",
    "To do:\n",
    "\n",
    "[] Specify Primary Keys\n",
    "[] Specify Foreign Keys\n",
    "[] Code to directly convert cleaned dataframe into database tables\n",
    "\n",
    "\"\"\""
   ]
  },
  {
   "cell_type": "code",
   "execution_count": null,
   "metadata": {},
   "outputs": [],
   "source": []
  }
 ],
 "metadata": {
  "kernelspec": {
   "display_name": "Python 3.6.9 64-bit ('learn-env': conda)",
   "language": "python",
   "name": "python36964bitlearnenvconda3f3cb4d2d1ec4234b1456b022cc34b13"
  },
  "language_info": {
   "codemirror_mode": {
    "name": "ipython",
    "version": 3
   },
   "file_extension": ".py",
   "mimetype": "text/x-python",
   "name": "python",
   "nbconvert_exporter": "python",
   "pygments_lexer": "ipython3",
   "version": "3.6.6"
  }
 },
 "nbformat": 4,
 "nbformat_minor": 4
}
