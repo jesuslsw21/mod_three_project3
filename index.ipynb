{
 "cells": [
  {
   "cell_type": "markdown",
   "metadata": {},
   "source": [
    "# Metacritic All Time Games Statistics (1995 - 2018)\n",
    "\n",
    "For this project, we used a dataset on Metacritic Games Reviews and Ratings from this kaggle page: https://www.kaggle.com/skateddu/metacritic-all-time-games-stats. Our goal is to ....\n"
   ]
  },
  {
   "cell_type": "markdown",
   "metadata": {},
   "source": [
    "First, we import the necessary libraries:"
   ]
  },
  {
   "cell_type": "code",
   "execution_count": 64,
   "metadata": {},
   "outputs": [],
   "source": [
    "# Import libraries\n",
    "import sqlite3\n",
    "import pandas as pd\n",
    "import matplotlib.pyplot as plt\n",
    "from matplotlib import rc\n",
    "import seaborn as sns\n",
    "import numpy as np\n",
    "import requests\n",
    "import json\n",
    "import pymongo\n",
    "from scipy import stats \n",
    "import math\n",
    "import statsmodels.api as sm\n",
    "from statsmodels.formula.api import ols\n",
    "from statsmodels.stats.multicomp import (pairwise_tukeyhsd, MultiComparison)\n",
    "\n",
    "import pandas as pd\n",
    "import numpy as np\n",
    "\n",
    "import seaborn as sns; sns.set()\n",
    "import matplotlib.pyplot as plt\n",
    "import scipy\n",
    "import statsmodels.api as sm\n",
    "\n",
    "import itertools # for combinations"
   ]
  },
  {
   "cell_type": "markdown",
   "metadata": {},
   "source": [
    "Next we import the dataset and preview the dataframe in pandas."
   ]
  },
  {
   "cell_type": "code",
   "execution_count": 65,
   "metadata": {
    "scrolled": true
   },
   "outputs": [
    {
     "data": {
      "text/html": [
       "<div>\n",
       "<style scoped>\n",
       "    .dataframe tbody tr th:only-of-type {\n",
       "        vertical-align: middle;\n",
       "    }\n",
       "\n",
       "    .dataframe tbody tr th {\n",
       "        vertical-align: top;\n",
       "    }\n",
       "\n",
       "    .dataframe thead th {\n",
       "        text-align: right;\n",
       "    }\n",
       "</style>\n",
       "<table border=\"1\" class=\"dataframe\">\n",
       "  <thead>\n",
       "    <tr style=\"text-align: right;\">\n",
       "      <th></th>\n",
       "      <th>name</th>\n",
       "      <th>platform</th>\n",
       "      <th>developer</th>\n",
       "      <th>publisher</th>\n",
       "      <th>genre</th>\n",
       "      <th>players</th>\n",
       "      <th>rating</th>\n",
       "      <th>attribute</th>\n",
       "      <th>release_date</th>\n",
       "      <th>link</th>\n",
       "      <th>critic_positive</th>\n",
       "      <th>critic_neutral</th>\n",
       "      <th>critic_negative</th>\n",
       "      <th>metascore</th>\n",
       "      <th>user_positive</th>\n",
       "      <th>user_neutral</th>\n",
       "      <th>user_negative</th>\n",
       "      <th>user_score</th>\n",
       "    </tr>\n",
       "  </thead>\n",
       "  <tbody>\n",
       "    <tr>\n",
       "      <td>0</td>\n",
       "      <td>Command &amp; Conquer</td>\n",
       "      <td>PC</td>\n",
       "      <td>Westwood Studios</td>\n",
       "      <td>Virgin Interactive</td>\n",
       "      <td>Sci-Fi</td>\n",
       "      <td>01-Apr</td>\n",
       "      <td>T</td>\n",
       "      <td>NaN</td>\n",
       "      <td>Aug 31, 1995</td>\n",
       "      <td>/game/pc/command-conquer</td>\n",
       "      <td>5</td>\n",
       "      <td>0</td>\n",
       "      <td>0</td>\n",
       "      <td>94</td>\n",
       "      <td>47</td>\n",
       "      <td>0</td>\n",
       "      <td>1</td>\n",
       "      <td>8.9</td>\n",
       "    </tr>\n",
       "    <tr>\n",
       "      <td>1</td>\n",
       "      <td>Full Throttle</td>\n",
       "      <td>PC</td>\n",
       "      <td>LucasArts</td>\n",
       "      <td>LucasArts</td>\n",
       "      <td>Adventure</td>\n",
       "      <td>NaN</td>\n",
       "      <td>NaN</td>\n",
       "      <td>NaN</td>\n",
       "      <td>Apr 30, 1995</td>\n",
       "      <td>/game/pc/full-throttle</td>\n",
       "      <td>6</td>\n",
       "      <td>2</td>\n",
       "      <td>0</td>\n",
       "      <td>86</td>\n",
       "      <td>18</td>\n",
       "      <td>1</td>\n",
       "      <td>0</td>\n",
       "      <td>8.7</td>\n",
       "    </tr>\n",
       "    <tr>\n",
       "      <td>2</td>\n",
       "      <td>Battle Arena Toshinden</td>\n",
       "      <td>PS</td>\n",
       "      <td>Tamsoft</td>\n",
       "      <td>SCEA</td>\n",
       "      <td>Action</td>\n",
       "      <td>01-Feb</td>\n",
       "      <td>T</td>\n",
       "      <td>NaN</td>\n",
       "      <td>Sep  9, 1995</td>\n",
       "      <td>/game/playstation/battle-arena-toshinden</td>\n",
       "      <td>1</td>\n",
       "      <td>3</td>\n",
       "      <td>0</td>\n",
       "      <td>69</td>\n",
       "      <td>1</td>\n",
       "      <td>0</td>\n",
       "      <td>1</td>\n",
       "      <td>5.8</td>\n",
       "    </tr>\n",
       "    <tr>\n",
       "      <td>3</td>\n",
       "      <td>Sid Meier's Civilization II</td>\n",
       "      <td>PC</td>\n",
       "      <td>MPS Labs</td>\n",
       "      <td>MicroProse</td>\n",
       "      <td>Strategy</td>\n",
       "      <td>1 Player</td>\n",
       "      <td>K-A</td>\n",
       "      <td>NaN</td>\n",
       "      <td>Feb 29, 1996</td>\n",
       "      <td>/game/pc/sid-meiers-civilization-ii</td>\n",
       "      <td>7</td>\n",
       "      <td>0</td>\n",
       "      <td>0</td>\n",
       "      <td>94</td>\n",
       "      <td>46</td>\n",
       "      <td>0</td>\n",
       "      <td>1</td>\n",
       "      <td>8.9</td>\n",
       "    </tr>\n",
       "    <tr>\n",
       "      <td>4</td>\n",
       "      <td>Quake</td>\n",
       "      <td>PC</td>\n",
       "      <td>id Software</td>\n",
       "      <td>id Software</td>\n",
       "      <td>Action</td>\n",
       "      <td>Jan-16</td>\n",
       "      <td>M</td>\n",
       "      <td>NaN</td>\n",
       "      <td>Jun 22, 1996</td>\n",
       "      <td>/game/pc/quake</td>\n",
       "      <td>9</td>\n",
       "      <td>0</td>\n",
       "      <td>0</td>\n",
       "      <td>94</td>\n",
       "      <td>84</td>\n",
       "      <td>4</td>\n",
       "      <td>1</td>\n",
       "      <td>8.8</td>\n",
       "    </tr>\n",
       "  </tbody>\n",
       "</table>\n",
       "</div>"
      ],
      "text/plain": [
       "                          name platform         developer           publisher  \\\n",
       "0            Command & Conquer       PC  Westwood Studios  Virgin Interactive   \n",
       "1                Full Throttle       PC         LucasArts           LucasArts   \n",
       "2       Battle Arena Toshinden       PS           Tamsoft                SCEA   \n",
       "3  Sid Meier's Civilization II       PC          MPS Labs          MicroProse   \n",
       "4                        Quake       PC       id Software         id Software   \n",
       "\n",
       "       genre   players rating attribute  release_date  \\\n",
       "0     Sci-Fi    01-Apr      T       NaN  Aug 31, 1995   \n",
       "1  Adventure       NaN    NaN       NaN  Apr 30, 1995   \n",
       "2     Action    01-Feb      T       NaN  Sep  9, 1995   \n",
       "3   Strategy  1 Player    K-A       NaN  Feb 29, 1996   \n",
       "4     Action    Jan-16      M       NaN  Jun 22, 1996   \n",
       "\n",
       "                                       link  critic_positive  critic_neutral  \\\n",
       "0                  /game/pc/command-conquer                5               0   \n",
       "1                    /game/pc/full-throttle                6               2   \n",
       "2  /game/playstation/battle-arena-toshinden                1               3   \n",
       "3       /game/pc/sid-meiers-civilization-ii                7               0   \n",
       "4                            /game/pc/quake                9               0   \n",
       "\n",
       "   critic_negative  metascore  user_positive  user_neutral  user_negative  \\\n",
       "0                0         94             47             0              1   \n",
       "1                0         86             18             1              0   \n",
       "2                0         69              1             0              1   \n",
       "3                0         94             46             0              1   \n",
       "4                0         94             84             4              1   \n",
       "\n",
       "  user_score  \n",
       "0        8.9  \n",
       "1        8.7  \n",
       "2        5.8  \n",
       "3        8.9  \n",
       "4        8.8  "
      ]
     },
     "execution_count": 65,
     "metadata": {},
     "output_type": "execute_result"
    }
   ],
   "source": [
    "# Import dataset csv and preview\n",
    "df = pd.read_csv('metacritic_games.csv')\n",
    "df.head()"
   ]
  },
  {
   "cell_type": "markdown",
   "metadata": {},
   "source": [
    "## Data Cleaning"
   ]
  },
  {
   "cell_type": "markdown",
   "metadata": {},
   "source": [
    "### Removing incomplete rows and redundant columns\n",
    "\n",
    "We begin data cleaning by dropping rows with missing values in developer and publisher."
   ]
  },
  {
   "cell_type": "code",
   "execution_count": 66,
   "metadata": {},
   "outputs": [],
   "source": [
    "# Drop rows with missing values in developer and publisher\n",
    "df.dropna(subset=['developer', 'publisher'], inplace = True)\n",
    "df.reset_index(inplace = True)\n",
    "df = df.drop(['index'], axis = 1)"
   ]
  },
  {
   "cell_type": "markdown",
   "metadata": {},
   "source": [
    "The following columns are dropped as they are not relevant to our research question:"
   ]
  },
  {
   "cell_type": "code",
   "execution_count": 67,
   "metadata": {},
   "outputs": [],
   "source": [
    "# Drop redundant columns\n",
    "df = df.drop(['players', 'attribute', 'link', 'critic_positive',\n",
    "              'critic_neutral', 'critic_negative','user_positive',\n",
    "              'user_neutral', 'user_negative'], axis = 1)"
   ]
  },
  {
   "cell_type": "markdown",
   "metadata": {},
   "source": [
    "### Obtaining Release Year\n",
    "\n",
    "Next, we sliced the 'release_date' to obtain the year of release and replaced the column with the appropriate 'release_year' data."
   ]
  },
  {
   "cell_type": "code",
   "execution_count": 68,
   "metadata": {
    "scrolled": false
   },
   "outputs": [],
   "source": [
    "# Change Release Date to Release Year\n",
    "year_released = []\n",
    "for i in range(0,len(df['release_date'])):    \n",
    "    year_released.append(df.release_date[i].split()[2])\n",
    "    \n",
    "df['release_date'] = year_released\n",
    "df.rename(columns={\"release_date\": \"release_year\"}, inplace = True)\n",
    "\n",
    "# Change datatype from str to integer\n",
    "df[['release_year']] = df[['release_year']].astype(int)"
   ]
  },
  {
   "cell_type": "markdown",
   "metadata": {},
   "source": [
    "### Rating\n",
    "\n",
    "Rating columns are adjusted by replacing the letters with the actual rating description, as follows:\n",
    "* **E** = Everyone\n",
    "* **EC** = Early Childhood 3+\n",
    "* **E10+** = Everyone 10+\n",
    "* **T** = Teen 13+\n",
    "* **M** = Mature 17+\n",
    "* **AO** = Adults Only 18+\n",
    "* **RP** or **K-A** = Rating Pending\n",
    "* **Null values** are replaced as Rating Pending"
   ]
  },
  {
   "cell_type": "code",
   "execution_count": 69,
   "metadata": {
    "scrolled": false
   },
   "outputs": [],
   "source": [
    "# Add Description to Rating column and remove null values\n",
    "for rating in df['rating']:\n",
    "    if rating == 'E':\n",
    "        df.rating.replace(to_replace = rating, value = 'Everyone', inplace=True)\n",
    "    elif rating == 'EC':\n",
    "        df.rating.replace(to_replace = rating, value = 'Early Childhood 3+', inplace=True)\n",
    "    elif rating == 'E10+':\n",
    "        df.rating.replace(to_replace = rating, value = 'Everyone 10+', inplace=True)\n",
    "    elif rating == 'T':\n",
    "        df.rating.replace(to_replace = rating, value = 'Teen 13+', inplace=True)\n",
    "    elif rating == 'M':\n",
    "        df.rating.replace(to_replace = rating, value = 'Mature 17+', inplace=True)\n",
    "    elif rating == 'AO':\n",
    "        df.rating.replace(to_replace = rating, value = 'Adults Only 18+', inplace=True)\n",
    "    elif rating == 'RP' or rating == 'K-A' or type(rating) == float:\n",
    "        df.rating.replace(to_replace = rating, value = 'Rating Pending', inplace=True)"
   ]
  },
  {
   "cell_type": "markdown",
   "metadata": {},
   "source": [
    "### Adjusting User Score\n",
    "\n",
    "The user_score column contains 0 null values, however 'tbd' is present, representing the user score is to be determined. As there are 2000 + values of 'tbd', we will replace the values with random-assigned values with weighted probabilities from other user review scores"
   ]
  },
  {
   "cell_type": "code",
   "execution_count": 70,
   "metadata": {
    "scrolled": false
   },
   "outputs": [],
   "source": [
    "# Assign 'tbd' values with random-assigned values with weighted probablities\n",
    "choice = sorted(df[df.user_score != 'tbd']['user_score'].unique())\n",
    "prob = df[df.user_score != 'tbd']['user_score'].value_counts(normalize=True).sort_index()\n",
    "df['user_score'] = df.user_score.map(lambda x: np.random.choice(choice, 1, p= prob)[0] if x == 'tbd' else x)"
   ]
  },
  {
   "cell_type": "markdown",
   "metadata": {},
   "source": [
    "For comparison purposes, we will adjust the user_score to be in the same format as the metascore by multiplying all values by 10 as user_score is rated on a scale of 10 while metascore is rated on a scale of 100. Appropriate datatype conversion will be performed to the values."
   ]
  },
  {
   "cell_type": "code",
   "execution_count": 71,
   "metadata": {},
   "outputs": [],
   "source": [
    "# Change datatype from str to float\n",
    "df[['user_score']] = df[['user_score']].astype(float)\n",
    "\n",
    "# Change user_score from a scale of 10 to a scale of 100 by multiplying all values by 10\n",
    "df['user_score'] = df['user_score'].apply(lambda x: x * 10 )\n",
    "\n",
    "# Change datatype from float to int\n",
    "df[['user_score']] = df[['user_score']].astype(int)"
   ]
  },
  {
   "cell_type": "code",
   "execution_count": 72,
   "metadata": {
    "scrolled": false
   },
   "outputs": [
    {
     "name": "stdout",
     "output_type": "stream",
     "text": [
      "(20380, 9)\n"
     ]
    },
    {
     "data": {
      "text/html": [
       "<div>\n",
       "<style scoped>\n",
       "    .dataframe tbody tr th:only-of-type {\n",
       "        vertical-align: middle;\n",
       "    }\n",
       "\n",
       "    .dataframe tbody tr th {\n",
       "        vertical-align: top;\n",
       "    }\n",
       "\n",
       "    .dataframe thead th {\n",
       "        text-align: right;\n",
       "    }\n",
       "</style>\n",
       "<table border=\"1\" class=\"dataframe\">\n",
       "  <thead>\n",
       "    <tr style=\"text-align: right;\">\n",
       "      <th></th>\n",
       "      <th>name</th>\n",
       "      <th>platform</th>\n",
       "      <th>developer</th>\n",
       "      <th>publisher</th>\n",
       "      <th>genre</th>\n",
       "      <th>rating</th>\n",
       "      <th>release_year</th>\n",
       "      <th>metascore</th>\n",
       "      <th>user_score</th>\n",
       "    </tr>\n",
       "  </thead>\n",
       "  <tbody>\n",
       "    <tr>\n",
       "      <td>0</td>\n",
       "      <td>Command &amp; Conquer</td>\n",
       "      <td>PC</td>\n",
       "      <td>Westwood Studios</td>\n",
       "      <td>Virgin Interactive</td>\n",
       "      <td>Sci-Fi</td>\n",
       "      <td>Teen 13+</td>\n",
       "      <td>1995</td>\n",
       "      <td>94</td>\n",
       "      <td>89</td>\n",
       "    </tr>\n",
       "    <tr>\n",
       "      <td>1</td>\n",
       "      <td>Full Throttle</td>\n",
       "      <td>PC</td>\n",
       "      <td>LucasArts</td>\n",
       "      <td>LucasArts</td>\n",
       "      <td>Adventure</td>\n",
       "      <td>Rating Pending</td>\n",
       "      <td>1995</td>\n",
       "      <td>86</td>\n",
       "      <td>87</td>\n",
       "    </tr>\n",
       "    <tr>\n",
       "      <td>2</td>\n",
       "      <td>Battle Arena Toshinden</td>\n",
       "      <td>PS</td>\n",
       "      <td>Tamsoft</td>\n",
       "      <td>SCEA</td>\n",
       "      <td>Action</td>\n",
       "      <td>Teen 13+</td>\n",
       "      <td>1995</td>\n",
       "      <td>69</td>\n",
       "      <td>58</td>\n",
       "    </tr>\n",
       "    <tr>\n",
       "      <td>3</td>\n",
       "      <td>Sid Meier's Civilization II</td>\n",
       "      <td>PC</td>\n",
       "      <td>MPS Labs</td>\n",
       "      <td>MicroProse</td>\n",
       "      <td>Strategy</td>\n",
       "      <td>Rating Pending</td>\n",
       "      <td>1996</td>\n",
       "      <td>94</td>\n",
       "      <td>89</td>\n",
       "    </tr>\n",
       "    <tr>\n",
       "      <td>4</td>\n",
       "      <td>Quake</td>\n",
       "      <td>PC</td>\n",
       "      <td>id Software</td>\n",
       "      <td>id Software</td>\n",
       "      <td>Action</td>\n",
       "      <td>Mature 17+</td>\n",
       "      <td>1996</td>\n",
       "      <td>94</td>\n",
       "      <td>88</td>\n",
       "    </tr>\n",
       "  </tbody>\n",
       "</table>\n",
       "</div>"
      ],
      "text/plain": [
       "                          name platform         developer           publisher  \\\n",
       "0            Command & Conquer       PC  Westwood Studios  Virgin Interactive   \n",
       "1                Full Throttle       PC         LucasArts           LucasArts   \n",
       "2       Battle Arena Toshinden       PS           Tamsoft                SCEA   \n",
       "3  Sid Meier's Civilization II       PC          MPS Labs          MicroProse   \n",
       "4                        Quake       PC       id Software         id Software   \n",
       "\n",
       "       genre          rating  release_year  metascore  user_score  \n",
       "0     Sci-Fi        Teen 13+          1995         94          89  \n",
       "1  Adventure  Rating Pending          1995         86          87  \n",
       "2     Action        Teen 13+          1995         69          58  \n",
       "3   Strategy  Rating Pending          1996         94          89  \n",
       "4     Action      Mature 17+          1996         94          88  "
      ]
     },
     "execution_count": 72,
     "metadata": {},
     "output_type": "execute_result"
    }
   ],
   "source": [
    "print(df.shape)\n",
    "df.head()"
   ]
  },
  {
   "cell_type": "markdown",
   "metadata": {},
   "source": [
    "Great! We now have a clean dataframe in the right format with no missing values. The dataframe has a shape of **9 columns x 20380 rows**. We can now begin our data analysis and hypothesis testing."
   ]
  },
  {
   "cell_type": "markdown",
   "metadata": {},
   "source": [
    "## Data Analysis "
   ]
  },
  {
   "cell_type": "code",
   "execution_count": 73,
   "metadata": {},
   "outputs": [],
   "source": [
    "# platform_boolean = []\n",
    "# for platform in df['platform']:\n",
    "#     if platform == 'PC':\n",
    "#         platform_boolean.append('PC')\n",
    "#     else:\n",
    "#         platform_boolean.append('Console')\n",
    "# df['platform_bool'] = platform_boolean\n",
    "\n",
    "# Segment our data into few ranges of years for analysis\n",
    "year_boolean = []\n",
    "for year in df['release_year']:\n",
    "    if year == 2013 or year == 2014:\n",
    "        year_boolean.append('13-14')\n",
    "    elif year == 2015 or year == 2016:\n",
    "        year_boolean.append('15-16')\n",
    "    elif year == 2017 or year == 2018:\n",
    "        year_boolean.append('17-18')\n",
    "    elif year < 2013:\n",
    "        year_boolean.append('Others')\n",
    "df['year_bool'] = year_boolean\n",
    "\n",
    "# To check average score between metascore and user score\n",
    "avg_score = []\n",
    "for i in range(0,len(df)):\n",
    "    avg_score.append((df.metascore[i] + df.user_score[i])/2)\n",
    "df['avg_score'] = avg_score\n",
    "\n",
    "# To display the description of the scoring system\n",
    "score_indication = []\n",
    "for score in df['avg_score']:\n",
    "    if score >= 90:\n",
    "        score_indication.append('Universal Acclaim')\n",
    "    elif score >= 75 and score <= 89:\n",
    "        score_indication.append('Favorable')\n",
    "    elif score >= 50 and score <= 74:\n",
    "        score_indication.append('Average')\n",
    "    elif score >= 20 and score <= 49:\n",
    "        score_indication.append('Unfavorable')\n",
    "    else:\n",
    "        score_indication.append('Overwhelming Dislike')\n",
    "df['score_indication'] = score_indication "
   ]
  },
  {
   "cell_type": "code",
   "execution_count": 74,
   "metadata": {
    "scrolled": true
   },
   "outputs": [
    {
     "data": {
      "text/html": [
       "<div>\n",
       "<style scoped>\n",
       "    .dataframe tbody tr th:only-of-type {\n",
       "        vertical-align: middle;\n",
       "    }\n",
       "\n",
       "    .dataframe tbody tr th {\n",
       "        vertical-align: top;\n",
       "    }\n",
       "\n",
       "    .dataframe thead th {\n",
       "        text-align: right;\n",
       "    }\n",
       "</style>\n",
       "<table border=\"1\" class=\"dataframe\">\n",
       "  <thead>\n",
       "    <tr style=\"text-align: right;\">\n",
       "      <th></th>\n",
       "      <th>name</th>\n",
       "      <th>platform</th>\n",
       "      <th>developer</th>\n",
       "      <th>publisher</th>\n",
       "      <th>genre</th>\n",
       "      <th>rating</th>\n",
       "      <th>release_year</th>\n",
       "      <th>year_bool</th>\n",
       "      <th>metascore</th>\n",
       "      <th>user_score</th>\n",
       "      <th>avg_score</th>\n",
       "      <th>score_indication</th>\n",
       "    </tr>\n",
       "  </thead>\n",
       "  <tbody>\n",
       "    <tr>\n",
       "      <td>0</td>\n",
       "      <td>Command &amp; Conquer</td>\n",
       "      <td>PC</td>\n",
       "      <td>Westwood Studios</td>\n",
       "      <td>Virgin Interactive</td>\n",
       "      <td>Sci-Fi</td>\n",
       "      <td>Teen 13+</td>\n",
       "      <td>1995</td>\n",
       "      <td>Others</td>\n",
       "      <td>94</td>\n",
       "      <td>89</td>\n",
       "      <td>91.5</td>\n",
       "      <td>Universal Acclaim</td>\n",
       "    </tr>\n",
       "    <tr>\n",
       "      <td>1</td>\n",
       "      <td>Full Throttle</td>\n",
       "      <td>PC</td>\n",
       "      <td>LucasArts</td>\n",
       "      <td>LucasArts</td>\n",
       "      <td>Adventure</td>\n",
       "      <td>Rating Pending</td>\n",
       "      <td>1995</td>\n",
       "      <td>Others</td>\n",
       "      <td>86</td>\n",
       "      <td>87</td>\n",
       "      <td>86.5</td>\n",
       "      <td>Favorable</td>\n",
       "    </tr>\n",
       "    <tr>\n",
       "      <td>2</td>\n",
       "      <td>Battle Arena Toshinden</td>\n",
       "      <td>PS</td>\n",
       "      <td>Tamsoft</td>\n",
       "      <td>SCEA</td>\n",
       "      <td>Action</td>\n",
       "      <td>Teen 13+</td>\n",
       "      <td>1995</td>\n",
       "      <td>Others</td>\n",
       "      <td>69</td>\n",
       "      <td>58</td>\n",
       "      <td>63.5</td>\n",
       "      <td>Average</td>\n",
       "    </tr>\n",
       "    <tr>\n",
       "      <td>3</td>\n",
       "      <td>Sid Meier's Civilization II</td>\n",
       "      <td>PC</td>\n",
       "      <td>MPS Labs</td>\n",
       "      <td>MicroProse</td>\n",
       "      <td>Strategy</td>\n",
       "      <td>Rating Pending</td>\n",
       "      <td>1996</td>\n",
       "      <td>Others</td>\n",
       "      <td>94</td>\n",
       "      <td>89</td>\n",
       "      <td>91.5</td>\n",
       "      <td>Universal Acclaim</td>\n",
       "    </tr>\n",
       "    <tr>\n",
       "      <td>4</td>\n",
       "      <td>Quake</td>\n",
       "      <td>PC</td>\n",
       "      <td>id Software</td>\n",
       "      <td>id Software</td>\n",
       "      <td>Action</td>\n",
       "      <td>Mature 17+</td>\n",
       "      <td>1996</td>\n",
       "      <td>Others</td>\n",
       "      <td>94</td>\n",
       "      <td>88</td>\n",
       "      <td>91.0</td>\n",
       "      <td>Universal Acclaim</td>\n",
       "    </tr>\n",
       "  </tbody>\n",
       "</table>\n",
       "</div>"
      ],
      "text/plain": [
       "                          name platform         developer           publisher  \\\n",
       "0            Command & Conquer       PC  Westwood Studios  Virgin Interactive   \n",
       "1                Full Throttle       PC         LucasArts           LucasArts   \n",
       "2       Battle Arena Toshinden       PS           Tamsoft                SCEA   \n",
       "3  Sid Meier's Civilization II       PC          MPS Labs          MicroProse   \n",
       "4                        Quake       PC       id Software         id Software   \n",
       "\n",
       "       genre          rating  release_year year_bool  metascore  user_score  \\\n",
       "0     Sci-Fi        Teen 13+          1995    Others         94          89   \n",
       "1  Adventure  Rating Pending          1995    Others         86          87   \n",
       "2     Action        Teen 13+          1995    Others         69          58   \n",
       "3   Strategy  Rating Pending          1996    Others         94          89   \n",
       "4     Action      Mature 17+          1996    Others         94          88   \n",
       "\n",
       "   avg_score   score_indication  \n",
       "0       91.5  Universal Acclaim  \n",
       "1       86.5          Favorable  \n",
       "2       63.5            Average  \n",
       "3       91.5  Universal Acclaim  \n",
       "4       91.0  Universal Acclaim  "
      ]
     },
     "execution_count": 74,
     "metadata": {},
     "output_type": "execute_result"
    }
   ],
   "source": [
    "# Re-index the column order\n",
    "df = df.reindex(columns=['name', 'platform', 'developer','publisher',\n",
    "                         'genre', 'rating', 'release_year','year_bool', \n",
    "                         'metascore', 'user_score', 'avg_score', 'score_indication'])\n",
    "df.head()"
   ]
  },
  {
   "cell_type": "code",
   "execution_count": 76,
   "metadata": {},
   "outputs": [
    {
     "data": {
      "text/html": [
       "<div>\n",
       "<style scoped>\n",
       "    .dataframe tbody tr th:only-of-type {\n",
       "        vertical-align: middle;\n",
       "    }\n",
       "\n",
       "    .dataframe tbody tr th {\n",
       "        vertical-align: top;\n",
       "    }\n",
       "\n",
       "    .dataframe thead th {\n",
       "        text-align: right;\n",
       "    }\n",
       "</style>\n",
       "<table border=\"1\" class=\"dataframe\">\n",
       "  <thead>\n",
       "    <tr style=\"text-align: right;\">\n",
       "      <th></th>\n",
       "      <th></th>\n",
       "      <th>count</th>\n",
       "      <th>mean</th>\n",
       "      <th>std</th>\n",
       "      <th>min</th>\n",
       "      <th>25%</th>\n",
       "      <th>50%</th>\n",
       "      <th>75%</th>\n",
       "      <th>max</th>\n",
       "    </tr>\n",
       "    <tr>\n",
       "      <th>year_bool</th>\n",
       "      <th>genre</th>\n",
       "      <th></th>\n",
       "      <th></th>\n",
       "      <th></th>\n",
       "      <th></th>\n",
       "      <th></th>\n",
       "      <th></th>\n",
       "      <th></th>\n",
       "      <th></th>\n",
       "    </tr>\n",
       "  </thead>\n",
       "  <tbody>\n",
       "    <tr>\n",
       "      <td>13-14</td>\n",
       "      <td>Action</td>\n",
       "      <td>780.0</td>\n",
       "      <td>68.794872</td>\n",
       "      <td>13.735685</td>\n",
       "      <td>17.0</td>\n",
       "      <td>61.0</td>\n",
       "      <td>72.0</td>\n",
       "      <td>79.0</td>\n",
       "      <td>94.0</td>\n",
       "    </tr>\n",
       "    <tr>\n",
       "      <td>15-16</td>\n",
       "      <td>Action</td>\n",
       "      <td>943.0</td>\n",
       "      <td>69.092259</td>\n",
       "      <td>12.094505</td>\n",
       "      <td>15.0</td>\n",
       "      <td>63.0</td>\n",
       "      <td>71.0</td>\n",
       "      <td>77.0</td>\n",
       "      <td>93.0</td>\n",
       "    </tr>\n",
       "    <tr>\n",
       "      <td>17-18</td>\n",
       "      <td>Action</td>\n",
       "      <td>1089.0</td>\n",
       "      <td>70.808999</td>\n",
       "      <td>11.154343</td>\n",
       "      <td>28.0</td>\n",
       "      <td>65.0</td>\n",
       "      <td>72.0</td>\n",
       "      <td>79.0</td>\n",
       "      <td>97.0</td>\n",
       "    </tr>\n",
       "    <tr>\n",
       "      <td>Others</td>\n",
       "      <td>Action</td>\n",
       "      <td>4288.0</td>\n",
       "      <td>66.299674</td>\n",
       "      <td>14.458211</td>\n",
       "      <td>18.0</td>\n",
       "      <td>57.0</td>\n",
       "      <td>68.0</td>\n",
       "      <td>77.0</td>\n",
       "      <td>98.0</td>\n",
       "    </tr>\n",
       "  </tbody>\n",
       "</table>\n",
       "</div>"
      ],
      "text/plain": [
       "                   count       mean        std   min   25%   50%   75%   max\n",
       "year_bool genre                                                             \n",
       "13-14     Action   780.0  68.794872  13.735685  17.0  61.0  72.0  79.0  94.0\n",
       "15-16     Action   943.0  69.092259  12.094505  15.0  63.0  71.0  77.0  93.0\n",
       "17-18     Action  1089.0  70.808999  11.154343  28.0  65.0  72.0  79.0  97.0\n",
       "Others    Action  4288.0  66.299674  14.458211  18.0  57.0  68.0  77.0  98.0"
      ]
     },
     "execution_count": 76,
     "metadata": {},
     "output_type": "execute_result"
    }
   ],
   "source": [
    "actiondf = df[df.genre == 'Action']\n",
    "actiondf.metascore.groupby([df.year_bool,df.genre]).describe()"
   ]
  },
  {
   "cell_type": "code",
   "execution_count": 77,
   "metadata": {},
   "outputs": [],
   "source": [
    "actiondf_1314 = actiondf[actiondf['year_bool'] == '13-14']\n",
    "actiondf_1516 = actiondf[actiondf['year_bool'] == '15-16']\n",
    "actiondf_1718 = actiondf[actiondf['year_bool'] == '17-18']"
   ]
  },
  {
   "cell_type": "code",
   "execution_count": 78,
   "metadata": {},
   "outputs": [],
   "source": [
    "sample_1314 = actiondf_1314.sample(100)\n",
    "sample_1516 = actiondf_1516.sample(100)\n",
    "sample_1718 = actiondf_1718.sample(100)"
   ]
  },
  {
   "cell_type": "code",
   "execution_count": 79,
   "metadata": {},
   "outputs": [],
   "source": [
    "sample_merged = pd.concat([sample_1314, sample_1516, sample_1718])"
   ]
  },
  {
   "cell_type": "code",
   "execution_count": 80,
   "metadata": {
    "scrolled": false
   },
   "outputs": [
    {
     "data": {
      "text/html": [
       "<div>\n",
       "<style scoped>\n",
       "    .dataframe tbody tr th:only-of-type {\n",
       "        vertical-align: middle;\n",
       "    }\n",
       "\n",
       "    .dataframe tbody tr th {\n",
       "        vertical-align: top;\n",
       "    }\n",
       "\n",
       "    .dataframe thead th {\n",
       "        text-align: right;\n",
       "    }\n",
       "</style>\n",
       "<table border=\"1\" class=\"dataframe\">\n",
       "  <thead>\n",
       "    <tr style=\"text-align: right;\">\n",
       "      <th></th>\n",
       "      <th>count</th>\n",
       "      <th>mean</th>\n",
       "      <th>std</th>\n",
       "      <th>min</th>\n",
       "      <th>25%</th>\n",
       "      <th>50%</th>\n",
       "      <th>75%</th>\n",
       "      <th>max</th>\n",
       "    </tr>\n",
       "    <tr>\n",
       "      <th>year_bool</th>\n",
       "      <th></th>\n",
       "      <th></th>\n",
       "      <th></th>\n",
       "      <th></th>\n",
       "      <th></th>\n",
       "      <th></th>\n",
       "      <th></th>\n",
       "      <th></th>\n",
       "    </tr>\n",
       "  </thead>\n",
       "  <tbody>\n",
       "    <tr>\n",
       "      <td>13-14</td>\n",
       "      <td>100.0</td>\n",
       "      <td>67.22</td>\n",
       "      <td>14.770008</td>\n",
       "      <td>32.0</td>\n",
       "      <td>58.5</td>\n",
       "      <td>72.0</td>\n",
       "      <td>77.25</td>\n",
       "      <td>90.0</td>\n",
       "    </tr>\n",
       "    <tr>\n",
       "      <td>15-16</td>\n",
       "      <td>100.0</td>\n",
       "      <td>69.86</td>\n",
       "      <td>12.288633</td>\n",
       "      <td>21.0</td>\n",
       "      <td>63.0</td>\n",
       "      <td>72.5</td>\n",
       "      <td>79.00</td>\n",
       "      <td>92.0</td>\n",
       "    </tr>\n",
       "    <tr>\n",
       "      <td>17-18</td>\n",
       "      <td>100.0</td>\n",
       "      <td>72.80</td>\n",
       "      <td>8.528029</td>\n",
       "      <td>49.0</td>\n",
       "      <td>68.0</td>\n",
       "      <td>74.0</td>\n",
       "      <td>79.00</td>\n",
       "      <td>92.0</td>\n",
       "    </tr>\n",
       "  </tbody>\n",
       "</table>\n",
       "</div>"
      ],
      "text/plain": [
       "           count   mean        std   min   25%   50%    75%   max\n",
       "year_bool                                                        \n",
       "13-14      100.0  67.22  14.770008  32.0  58.5  72.0  77.25  90.0\n",
       "15-16      100.0  69.86  12.288633  21.0  63.0  72.5  79.00  92.0\n",
       "17-18      100.0  72.80   8.528029  49.0  68.0  74.0  79.00  92.0"
      ]
     },
     "execution_count": 80,
     "metadata": {},
     "output_type": "execute_result"
    }
   ],
   "source": [
    "sample_merged['metascore'].groupby(by = sample_merged.year_bool).describe()"
   ]
  },
  {
   "cell_type": "code",
   "execution_count": 81,
   "metadata": {},
   "outputs": [
    {
     "name": "stdout",
     "output_type": "stream",
     "text": [
      "                 df    sum_sq    mean_sq         F    PR(>F)\n",
      "C(year_bool)    2.0   1558.32  779.16000  5.289722  0.005529\n",
      "Residual      297.0  43747.20  147.29697       NaN       NaN\n"
     ]
    }
   ],
   "source": [
    "formula = 'metascore ~ C(year_bool)'\n",
    "lm = ols(formula, sample_merged).fit()\n",
    "table = sm.stats.anova_lm(lm, typ=1)\n",
    "print(table)"
   ]
  },
  {
   "cell_type": "code",
   "execution_count": 82,
   "metadata": {},
   "outputs": [
    {
     "name": "stdout",
     "output_type": "stream",
     "text": [
      "Multiple Comparison of Means - Tukey HSD, FWER=0.05\n",
      "===================================================\n",
      "group1 group2 meandiff p-adj   lower  upper  reject\n",
      "---------------------------------------------------\n",
      " 13-14  15-16     2.64  0.275 -1.4032 6.6832  False\n",
      " 13-14  17-18     5.58 0.0037  1.5368 9.6232   True\n",
      " 15-16  17-18     2.94 0.2022 -1.1032 6.9832  False\n",
      "---------------------------------------------------\n"
     ]
    }
   ],
   "source": [
    "mc = MultiComparison(sample_merged.metascore, sample_merged.year_bool)\n",
    "mc_results = mc.tukeyhsd()\n",
    "print(mc_results)"
   ]
  },
  {
   "cell_type": "code",
   "execution_count": 83,
   "metadata": {},
   "outputs": [
    {
     "data": {
      "text/plain": [
       "<matplotlib.axes._subplots.AxesSubplot at 0x1f2a2e2d888>"
      ]
     },
     "execution_count": 83,
     "metadata": {},
     "output_type": "execute_result"
    },
    {
     "data": {
      "image/png": "[encoded data removed]",
      "text/plain": [
       "<Figure size 720x720 with 1 Axes>"
      ]
     },
     "metadata": {},
     "output_type": "display_data"
    }
   ],
   "source": [
    "fig = plt.subplots(figsize = (10,10))\n",
    "sns.boxplot(x='year_bool', y='metascore', data=sample_merged)"
   ]
  },
  {
   "cell_type": "markdown",
   "metadata": {},
   "source": [
    "# Atlus vs Zen Studios vs Ubisoft"
   ]
  },
  {
   "cell_type": "code",
   "execution_count": 84,
   "metadata": {},
   "outputs": [],
   "source": [
    "df_ubisoft = df[df.publisher == 'Ubisoft']\n",
    "df_atlus = df[df.publisher == 'Atlus']\n",
    "df_zen = df[df.publisher == 'Zen Studios']\n",
    "\n",
    "df_merged = pd.concat([df_ubisoft,df_atlus,df_zen])"
   ]
  },
  {
   "cell_type": "code",
   "execution_count": 85,
   "metadata": {},
   "outputs": [
    {
     "name": "stdout",
     "output_type": "stream",
     "text": [
      "                  df         sum_sq      mean_sq          F        PR(>F)\n",
      "C(publisher)     2.0    4759.930221  2379.965110  14.155284  8.484951e-07\n",
      "Residual      1123.0  188812.941005   168.132628        NaN           NaN\n"
     ]
    }
   ],
   "source": [
    "formula = 'metascore ~  C(publisher)'\n",
    "lm = ols(formula, df_merged).fit()\n",
    "table = sm.stats.anova_lm(lm, typ=1)\n",
    "print(table)"
   ]
  },
  {
   "cell_type": "code",
   "execution_count": 86,
   "metadata": {},
   "outputs": [
    {
     "name": "stdout",
     "output_type": "stream",
     "text": [
      "   Multiple Comparison of Means - Tukey HSD, FWER=0.05    \n",
      "==========================================================\n",
      " group1    group2   meandiff p-adj   lower   upper  reject\n",
      "----------------------------------------------------------\n",
      "  Atlus     Ubisoft  -1.1511 0.5626 -3.8105  1.5083  False\n",
      "  Atlus Zen Studios   7.6684  0.001  3.1629 12.1738   True\n",
      "Ubisoft Zen Studios   8.8195  0.001  4.9123 12.7267   True\n",
      "----------------------------------------------------------\n"
     ]
    }
   ],
   "source": [
    "mc = MultiComparison(df_merged.metascore, df_merged.publisher)\n",
    "mc_results = mc.tukeyhsd()\n",
    "print(mc_results)"
   ]
  },
  {
   "cell_type": "code",
   "execution_count": 91,
   "metadata": {},
   "outputs": [],
   "source": [
    "def cohen_d(group1, group2):\n",
    "    diff = group1.mean() - group2.mean()\n",
    "    n1, n2 = len(group1), len(group2)\n",
    "    var1 = group1.var()\n",
    "    var2 = group2.var()\n",
    "    # Calculate the pooled threshold as shown earlier\n",
    "    pooled_var = (n1 * var1 + n2 * var2) / (n1 + n2)\n",
    "    # Calculate Cohen's d statistic\n",
    "    d = diff / np.sqrt(pooled_var)\n",
    "    return abs(d)"
   ]
  },
  {
   "cell_type": "code",
   "execution_count": 92,
   "metadata": {},
   "outputs": [
    {
     "data": {
      "text/plain": [
       "0.6588606783480686"
      ]
     },
     "execution_count": 92,
     "metadata": {},
     "output_type": "execute_result"
    }
   ],
   "source": [
    "cohen_d(df_atlus.metascore, df_zen.metascore)"
   ]
  },
  {
   "cell_type": "code",
   "execution_count": 93,
   "metadata": {},
   "outputs": [
    {
     "data": {
      "text/plain": [
       "0.6771648965101973"
      ]
     },
     "execution_count": 93,
     "metadata": {},
     "output_type": "execute_result"
    }
   ],
   "source": [
    "cohen_d(df_ubisoft.metascore, df_zen.metascore)"
   ]
  },
  {
   "cell_type": "code",
   "execution_count": 90,
   "metadata": {},
   "outputs": [
    {
     "data": {
      "text/plain": [
       "<matplotlib.axes._subplots.AxesSubplot at 0x1f2a348f2c8>"
      ]
     },
     "execution_count": 90,
     "metadata": {},
     "output_type": "execute_result"
    },
    {
     "data": {
      "image/png": "[encoded data removed]",
      "text/plain": [
       "<Figure size 720x720 with 1 Axes>"
      ]
     },
     "metadata": {},
     "output_type": "display_data"
    }
   ],
   "source": [
    "fig = plt.subplots(figsize = (10,10))\n",
    "sns.boxplot(x='publisher', y='metascore', data=df_merged)"
   ]
  },
  {
   "cell_type": "markdown",
   "metadata": {},
   "source": [
    "# Hypothesis 3"
   ]
  },
  {
   "cell_type": "code",
   "execution_count": 96,
   "metadata": {},
   "outputs": [],
   "source": [
    "PC_df = df[df.platform == 'PC']\n",
    "\n",
    "meta_sample = PC_df[\"metascore\"]\n",
    "user_sample = PC_df[\"user_score\"]"
   ]
  },
  {
   "cell_type": "code",
   "execution_count": 97,
   "metadata": {},
   "outputs": [
    {
     "data": {
      "text/plain": [
       "6.109717144616039"
      ]
     },
     "execution_count": 97,
     "metadata": {},
     "output_type": "execute_result"
    }
   ],
   "source": [
    "def welch_t(a, b):\n",
    "\n",
    "    numerator = a.mean() - b.mean()\n",
    "    \n",
    "    denominator = np.sqrt(a.var(ddof=1)/a.size + b.var(ddof=1)/b.size)\n",
    "    \n",
    "    return np.abs(numerator/denominator)\n",
    "\n",
    "welch_t(meta_sample,user_sample)"
   ]
  },
  {
   "cell_type": "code",
   "execution_count": 98,
   "metadata": {},
   "outputs": [
    {
     "data": {
      "text/plain": [
       "10746.343973457178"
      ]
     },
     "execution_count": 98,
     "metadata": {},
     "output_type": "execute_result"
    }
   ],
   "source": [
    "def welch_df(a, b):\n",
    "    \n",
    "    s1 = a.var(ddof=1) \n",
    "    s2 = b.var(ddof=1)\n",
    "    n1 = a.size\n",
    "    n2 = b.size\n",
    "    \n",
    "    numerator = (s1/n1 + s2/n2)**2\n",
    "    denominator = (s1/ n1)**2/(n1 - 1) + (s2/ n2)**2/(n2 - 1)\n",
    "    \n",
    "    return numerator/denominator\n",
    "        \n",
    "welch_df(meta_sample, user_sample)"
   ]
  },
  {
   "cell_type": "code",
   "execution_count": 99,
   "metadata": {},
   "outputs": [
    {
     "data": {
      "text/plain": [
       "5.163274252595329e-10"
      ]
     },
     "execution_count": 99,
     "metadata": {},
     "output_type": "execute_result"
    }
   ],
   "source": [
    "def p_value(a, b, two_sided=False):\n",
    "\n",
    "    t = welch_t(a, b)\n",
    "    df = welch_df(a, b)\n",
    "    \n",
    "    p = 1-stats.t.cdf(np.abs(t), df)\n",
    "    \n",
    "    if two_sided:\n",
    "        return 2*p\n",
    "    else:\n",
    "        return p\n",
    "\n",
    "p_value(meta_sample, user_sample)"
   ]
  },
  {
   "cell_type": "code",
   "execution_count": 100,
   "metadata": {},
   "outputs": [
    {
     "data": {
      "text/plain": [
       "0.1173103231670341"
      ]
     },
     "execution_count": 100,
     "metadata": {},
     "output_type": "execute_result"
    }
   ],
   "source": [
    "cohen_d(meta_sample, user_sample)"
   ]
  },
  {
   "cell_type": "code",
   "execution_count": 102,
   "metadata": {},
   "outputs": [
    {
     "data": {
      "text/plain": [
       "1.5494930875576074"
      ]
     },
     "execution_count": 102,
     "metadata": {},
     "output_type": "execute_result"
    }
   ],
   "source": [
    "def effect_size(a, b):\n",
    "    e = a.mean()-b.mean()\n",
    "    \n",
    "    return e\n",
    "\n",
    "effect_size(meta_sample, user_sample)"
   ]
  },
  {
   "cell_type": "code",
   "execution_count": null,
   "metadata": {},
   "outputs": [],
   "source": []
  }
 ],
 "metadata": {
  "kernelspec": {
   "display_name": "Python 3",
   "language": "python",
   "name": "python3"
  },
  "language_info": {
   "codemirror_mode": {
    "name": "ipython",
    "version": 3
   },
   "file_extension": ".py",
   "mimetype": "text/x-python",
   "name": "python",
   "nbconvert_exporter": "python",
   "pygments_lexer": "ipython3",
   "version": "3.7.4"
  }
 },
 "nbformat": 4,
 "nbformat_minor": 2
}
