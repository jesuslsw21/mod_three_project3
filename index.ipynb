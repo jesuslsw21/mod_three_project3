{
 "cells": [
  {
   "cell_type": "markdown",
   "metadata": {},
   "source": [
    "# Metacritic All Time Games Statistics (1995 - 2018)\n",
    "\n",
    "For this project, we used a dataset on Metacritic Games Reviews and Ratings from this kaggle page: https://www.kaggle.com/skateddu/metacritic-all-time-games-stats. Our goal is to ....\n"
   ]
  },
  {
   "cell_type": "markdown",
   "metadata": {},
   "source": [
    "First, we import the necessary libraries:"
   ]
  },
  {
   "cell_type": "code",
   "execution_count": 19,
   "metadata": {},
   "outputs": [],
   "source": [
    "# Import libraries\n",
    "import sqlite3\n",
    "import pandas as pd\n",
    "import matplotlib.pyplot as plt\n",
    "from matplotlib import rc\n",
    "import seaborn as sns; sns.set()\n",
    "import numpy as np\n",
    "import requests\n",
    "import json\n",
    "import pymongo\n",
    "import scipy\n",
    "from scipy import stats \n",
    "import math\n",
    "import statsmodels.api as sm\n",
    "from statsmodels.formula.api import ols\n",
    "from statsmodels.stats.multicomp import (pairwise_tukeyhsd, MultiComparison)\n",
    "import itertools \n",
    "from statsmodels.stats.power import TTestIndPower"
   ]
  },
  {
   "cell_type": "code",
   "execution_count": 20,
   "metadata": {},
   "outputs": [],
   "source": [
    "# Functions\n",
    "\n",
    "def get_sample(data, n):\n",
    "    sample = []\n",
    "    while len(sample) != n:\n",
    "        x = np.random.choice(data)\n",
    "        sample.append(x)\n",
    "    return sample\n",
    "\n",
    "def get_sample_mean(sample):\n",
    "    return sum(sample) / len(sample)\n",
    "\n",
    "#we are drawing 10,000 samples and taking the mean 1,000 times in order to run our test \n",
    "def create_sample_distribution(data, dist_size=1000, n=1000):\n",
    "    sample_dist = []\n",
    "    while len(sample_dist) != dist_size:\n",
    "        sample = get_sample(data, n)\n",
    "        sample_mean = get_sample_mean(sample)\n",
    "        sample_dist.append(sample_mean)\n",
    "    return sample_dist\n",
    "\n",
    "def cohen_d(group1, group2):\n",
    "    diff = group1.mean() - group2.mean()\n",
    "    n1, n2 = len(group1), len(group2)\n",
    "    var1 = group1.var()\n",
    "    var2 = group2.var()\n",
    "    # Calculate the pooled threshold as shown earlier\n",
    "    pooled_var = (n1 * var1 + n2 * var2) / (n1 + n2)\n",
    "    # Calculate Cohen's d statistic\n",
    "    d = diff / np.sqrt(pooled_var)\n",
    "    return abs(d)\n",
    "\n",
    "def welch_t(a, b):\n",
    "    numerator = a.mean() - b.mean()\n",
    "    denominator = np.sqrt(a.var(ddof=1)/a.size + b.var(ddof=1)/b.size)\n",
    "    return np.abs(numerator/denominator)\n",
    "\n",
    "def welch_df(a, b):\n",
    "    \n",
    "    s1 = a.var(ddof=1) \n",
    "    s2 = b.var(ddof=1)\n",
    "    n1 = a.size\n",
    "    n2 = b.size\n",
    "    \n",
    "    numerator = (s1/n1 + s2/n2)**2\n",
    "    denominator = (s1/ n1)**2/(n1 - 1) + (s2/ n2)**2/(n2 - 1)\n",
    "    \n",
    "    return numerator/denominator\n",
    "\n",
    "def p_value(a, b, two_sided=False):\n",
    "\n",
    "    t = welch_t(a, b)\n",
    "    df = welch_df(a, b)\n",
    "    \n",
    "    p = 1-stats.t.cdf(np.abs(t), df)\n",
    "    \n",
    "    if two_sided:\n",
    "        return 2*p\n",
    "    else:\n",
    "        return p\n",
    "    \n",
    "def effect_size(a, b):\n",
    "    e = a.mean()-b.mean()\n",
    "    \n",
    "    return e"
   ]
  },
  {
   "cell_type": "markdown",
   "metadata": {},
   "source": [
    "Next we import the dataset and preview the dataframe in pandas."
   ]
  },
  {
   "cell_type": "code",
   "execution_count": 21,
   "metadata": {
    "scrolled": true
   },
   "outputs": [
    {
     "data": {
      "text/html": [
       "<div>\n",
       "<style scoped>\n",
       "    .dataframe tbody tr th:only-of-type {\n",
       "        vertical-align: middle;\n",
       "    }\n",
       "\n",
       "    .dataframe tbody tr th {\n",
       "        vertical-align: top;\n",
       "    }\n",
       "\n",
       "    .dataframe thead th {\n",
       "        text-align: right;\n",
       "    }\n",
       "</style>\n",
       "<table border=\"1\" class=\"dataframe\">\n",
       "  <thead>\n",
       "    <tr style=\"text-align: right;\">\n",
       "      <th></th>\n",
       "      <th>name</th>\n",
       "      <th>platform</th>\n",
       "      <th>developer</th>\n",
       "      <th>publisher</th>\n",
       "      <th>genre</th>\n",
       "      <th>players</th>\n",
       "      <th>rating</th>\n",
       "      <th>attribute</th>\n",
       "      <th>release_date</th>\n",
       "      <th>link</th>\n",
       "      <th>critic_positive</th>\n",
       "      <th>critic_neutral</th>\n",
       "      <th>critic_negative</th>\n",
       "      <th>metascore</th>\n",
       "      <th>user_positive</th>\n",
       "      <th>user_neutral</th>\n",
       "      <th>user_negative</th>\n",
       "      <th>user_score</th>\n",
       "    </tr>\n",
       "  </thead>\n",
       "  <tbody>\n",
       "    <tr>\n",
       "      <td>0</td>\n",
       "      <td>Command &amp; Conquer</td>\n",
       "      <td>PC</td>\n",
       "      <td>Westwood Studios</td>\n",
       "      <td>Virgin Interactive</td>\n",
       "      <td>Sci-Fi</td>\n",
       "      <td>01-Apr</td>\n",
       "      <td>T</td>\n",
       "      <td>NaN</td>\n",
       "      <td>Aug 31, 1995</td>\n",
       "      <td>/game/pc/command-conquer</td>\n",
       "      <td>5</td>\n",
       "      <td>0</td>\n",
       "      <td>0</td>\n",
       "      <td>94</td>\n",
       "      <td>47</td>\n",
       "      <td>0</td>\n",
       "      <td>1</td>\n",
       "      <td>8.9</td>\n",
       "    </tr>\n",
       "    <tr>\n",
       "      <td>1</td>\n",
       "      <td>Full Throttle</td>\n",
       "      <td>PC</td>\n",
       "      <td>LucasArts</td>\n",
       "      <td>LucasArts</td>\n",
       "      <td>Adventure</td>\n",
       "      <td>NaN</td>\n",
       "      <td>NaN</td>\n",
       "      <td>NaN</td>\n",
       "      <td>Apr 30, 1995</td>\n",
       "      <td>/game/pc/full-throttle</td>\n",
       "      <td>6</td>\n",
       "      <td>2</td>\n",
       "      <td>0</td>\n",
       "      <td>86</td>\n",
       "      <td>18</td>\n",
       "      <td>1</td>\n",
       "      <td>0</td>\n",
       "      <td>8.7</td>\n",
       "    </tr>\n",
       "    <tr>\n",
       "      <td>2</td>\n",
       "      <td>Battle Arena Toshinden</td>\n",
       "      <td>PS</td>\n",
       "      <td>Tamsoft</td>\n",
       "      <td>SCEA</td>\n",
       "      <td>Action</td>\n",
       "      <td>01-Feb</td>\n",
       "      <td>T</td>\n",
       "      <td>NaN</td>\n",
       "      <td>Sep  9, 1995</td>\n",
       "      <td>/game/playstation/battle-arena-toshinden</td>\n",
       "      <td>1</td>\n",
       "      <td>3</td>\n",
       "      <td>0</td>\n",
       "      <td>69</td>\n",
       "      <td>1</td>\n",
       "      <td>0</td>\n",
       "      <td>1</td>\n",
       "      <td>5.8</td>\n",
       "    </tr>\n",
       "    <tr>\n",
       "      <td>3</td>\n",
       "      <td>Sid Meier's Civilization II</td>\n",
       "      <td>PC</td>\n",
       "      <td>MPS Labs</td>\n",
       "      <td>MicroProse</td>\n",
       "      <td>Strategy</td>\n",
       "      <td>1 Player</td>\n",
       "      <td>K-A</td>\n",
       "      <td>NaN</td>\n",
       "      <td>Feb 29, 1996</td>\n",
       "      <td>/game/pc/sid-meiers-civilization-ii</td>\n",
       "      <td>7</td>\n",
       "      <td>0</td>\n",
       "      <td>0</td>\n",
       "      <td>94</td>\n",
       "      <td>46</td>\n",
       "      <td>0</td>\n",
       "      <td>1</td>\n",
       "      <td>8.9</td>\n",
       "    </tr>\n",
       "    <tr>\n",
       "      <td>4</td>\n",
       "      <td>Quake</td>\n",
       "      <td>PC</td>\n",
       "      <td>id Software</td>\n",
       "      <td>id Software</td>\n",
       "      <td>Action</td>\n",
       "      <td>Jan-16</td>\n",
       "      <td>M</td>\n",
       "      <td>NaN</td>\n",
       "      <td>Jun 22, 1996</td>\n",
       "      <td>/game/pc/quake</td>\n",
       "      <td>9</td>\n",
       "      <td>0</td>\n",
       "      <td>0</td>\n",
       "      <td>94</td>\n",
       "      <td>84</td>\n",
       "      <td>4</td>\n",
       "      <td>1</td>\n",
       "      <td>8.8</td>\n",
       "    </tr>\n",
       "  </tbody>\n",
       "</table>\n",
       "</div>"
      ],
      "text/plain": [
       "                          name platform         developer           publisher  \\\n",
       "0            Command & Conquer       PC  Westwood Studios  Virgin Interactive   \n",
       "1                Full Throttle       PC         LucasArts           LucasArts   \n",
       "2       Battle Arena Toshinden       PS           Tamsoft                SCEA   \n",
       "3  Sid Meier's Civilization II       PC          MPS Labs          MicroProse   \n",
       "4                        Quake       PC       id Software         id Software   \n",
       "\n",
       "       genre   players rating attribute  release_date  \\\n",
       "0     Sci-Fi    01-Apr      T       NaN  Aug 31, 1995   \n",
       "1  Adventure       NaN    NaN       NaN  Apr 30, 1995   \n",
       "2     Action    01-Feb      T       NaN  Sep  9, 1995   \n",
       "3   Strategy  1 Player    K-A       NaN  Feb 29, 1996   \n",
       "4     Action    Jan-16      M       NaN  Jun 22, 1996   \n",
       "\n",
       "                                       link  critic_positive  critic_neutral  \\\n",
       "0                  /game/pc/command-conquer                5               0   \n",
       "1                    /game/pc/full-throttle                6               2   \n",
       "2  /game/playstation/battle-arena-toshinden                1               3   \n",
       "3       /game/pc/sid-meiers-civilization-ii                7               0   \n",
       "4                            /game/pc/quake                9               0   \n",
       "\n",
       "   critic_negative  metascore  user_positive  user_neutral  user_negative  \\\n",
       "0                0         94             47             0              1   \n",
       "1                0         86             18             1              0   \n",
       "2                0         69              1             0              1   \n",
       "3                0         94             46             0              1   \n",
       "4                0         94             84             4              1   \n",
       "\n",
       "  user_score  \n",
       "0        8.9  \n",
       "1        8.7  \n",
       "2        5.8  \n",
       "3        8.9  \n",
       "4        8.8  "
      ]
     },
     "execution_count": 21,
     "metadata": {},
     "output_type": "execute_result"
    }
   ],
   "source": [
    "# Import dataset csv and preview\n",
    "df = pd.read_csv('metacritic_games.csv')\n",
    "df.head()"
   ]
  },
  {
   "cell_type": "markdown",
   "metadata": {},
   "source": [
    "## Data Cleaning"
   ]
  },
  {
   "cell_type": "markdown",
   "metadata": {},
   "source": [
    "### Removing incomplete rows and redundant columns\n",
    "\n",
    "We begin data cleaning by dropping rows with missing values in developer and publisher."
   ]
  },
  {
   "cell_type": "code",
   "execution_count": 22,
   "metadata": {},
   "outputs": [],
   "source": [
    "# Drop rows with missing values in developer and publisher\n",
    "df.dropna(subset=['developer', 'publisher'], inplace = True)\n",
    "df.reset_index(inplace = True)\n",
    "df = df.drop(['index'], axis = 1)"
   ]
  },
  {
   "cell_type": "markdown",
   "metadata": {},
   "source": [
    "The following columns are dropped as they are not relevant to our research question:"
   ]
  },
  {
   "cell_type": "code",
   "execution_count": 23,
   "metadata": {},
   "outputs": [],
   "source": [
    "# Drop redundant columns\n",
    "df = df.drop(['players', 'attribute', 'link', 'critic_positive',\n",
    "              'critic_neutral', 'critic_negative','user_positive',\n",
    "              'user_neutral', 'user_negative'], axis = 1)"
   ]
  },
  {
   "cell_type": "markdown",
   "metadata": {},
   "source": [
    "### Obtaining Release Year\n",
    "\n",
    "Next, we sliced the 'release_date' to obtain the year of release and replaced the column with the appropriate 'release_year' data."
   ]
  },
  {
   "cell_type": "code",
   "execution_count": 24,
   "metadata": {
    "scrolled": false
   },
   "outputs": [],
   "source": [
    "# Change Release Date to Release Year\n",
    "year_released = []\n",
    "for i in range(0,len(df['release_date'])):    \n",
    "    year_released.append(df.release_date[i].split()[2])\n",
    "    \n",
    "df['release_date'] = year_released\n",
    "df.rename(columns={\"release_date\": \"release_year\"}, inplace = True)\n",
    "\n",
    "# Change datatype from str to integer\n",
    "df[['release_year']] = df[['release_year']].astype(int)"
   ]
  },
  {
   "cell_type": "markdown",
   "metadata": {},
   "source": [
    "### Rating\n",
    "\n",
    "Rating columns are adjusted by replacing the letters with the actual rating description, as follows:\n",
    "* **E** = Everyone\n",
    "* **EC** = Early Childhood 3+\n",
    "* **E10+** = Everyone 10+\n",
    "* **T** = Teen 13+\n",
    "* **M** = Mature 17+\n",
    "* **AO** = Adults Only 18+\n",
    "* **RP** or **K-A** = Rating Pending\n",
    "* **Null values** are replaced as Rating Pending"
   ]
  },
  {
   "cell_type": "code",
   "execution_count": 25,
   "metadata": {
    "scrolled": false
   },
   "outputs": [],
   "source": [
    "# Add Description to Rating column and remove null values\n",
    "for rating in df['rating']:\n",
    "    if rating == 'E':\n",
    "        df.rating.replace(to_replace = rating, value = 'Everyone', inplace=True)\n",
    "    elif rating == 'EC':\n",
    "        df.rating.replace(to_replace = rating, value = 'Early Childhood 3+', inplace=True)\n",
    "    elif rating == 'E10+':\n",
    "        df.rating.replace(to_replace = rating, value = 'Everyone 10+', inplace=True)\n",
    "    elif rating == 'T':\n",
    "        df.rating.replace(to_replace = rating, value = 'Teen 13+', inplace=True)\n",
    "    elif rating == 'M':\n",
    "        df.rating.replace(to_replace = rating, value = 'Mature 17+', inplace=True)\n",
    "    elif rating == 'AO':\n",
    "        df.rating.replace(to_replace = rating, value = 'Adults Only 18+', inplace=True)\n",
    "    elif rating == 'RP' or rating == 'K-A' or type(rating) == float:\n",
    "        df.rating.replace(to_replace = rating, value = 'Rating Pending', inplace=True)"
   ]
  },
  {
   "cell_type": "markdown",
   "metadata": {},
   "source": [
    "### Adjusting User Score\n",
    "\n",
    "The user_score column contains 0 null values, however 'tbd' is present, representing the user score is to be determined. As there are 2000 + values of 'tbd', we will replace the values with random-assigned values with weighted probabilities from other user review scores"
   ]
  },
  {
   "cell_type": "code",
   "execution_count": 26,
   "metadata": {
    "scrolled": false
   },
   "outputs": [],
   "source": [
    "# Assign 'tbd' values with random-assigned values with weighted probablities\n",
    "choice = sorted(df[df.user_score != 'tbd']['user_score'].unique())\n",
    "prob = df[df.user_score != 'tbd']['user_score'].value_counts(normalize=True).sort_index()\n",
    "df['user_score'] = df.user_score.map(lambda x: np.random.choice(choice, 1, p= prob)[0] if x == 'tbd' else x)"
   ]
  },
  {
   "cell_type": "markdown",
   "metadata": {},
   "source": [
    "For comparison purposes, we will adjust the user_score to be in the same format as the metascore by multiplying all values by 10 as user_score is rated on a scale of 10 while metascore is rated on a scale of 100. Appropriate datatype conversion will be performed to the values."
   ]
  },
  {
   "cell_type": "code",
   "execution_count": 27,
   "metadata": {},
   "outputs": [],
   "source": [
    "# Change datatype from str to float\n",
    "df[['user_score']] = df[['user_score']].astype(float)\n",
    "\n",
    "# Change user_score from a scale of 10 to a scale of 100 by multiplying all values by 10\n",
    "df['user_score'] = df['user_score'].apply(lambda x: x * 10 )\n",
    "\n",
    "# Change datatype from float to int\n",
    "df[['user_score']] = df[['user_score']].astype(int)"
   ]
  },
  {
   "cell_type": "code",
   "execution_count": 28,
   "metadata": {
    "scrolled": false
   },
   "outputs": [
    {
     "name": "stdout",
     "output_type": "stream",
     "text": [
      "(20380, 9)\n"
     ]
    },
    {
     "data": {
      "text/html": [
       "<div>\n",
       "<style scoped>\n",
       "    .dataframe tbody tr th:only-of-type {\n",
       "        vertical-align: middle;\n",
       "    }\n",
       "\n",
       "    .dataframe tbody tr th {\n",
       "        vertical-align: top;\n",
       "    }\n",
       "\n",
       "    .dataframe thead th {\n",
       "        text-align: right;\n",
       "    }\n",
       "</style>\n",
       "<table border=\"1\" class=\"dataframe\">\n",
       "  <thead>\n",
       "    <tr style=\"text-align: right;\">\n",
       "      <th></th>\n",
       "      <th>name</th>\n",
       "      <th>platform</th>\n",
       "      <th>developer</th>\n",
       "      <th>publisher</th>\n",
       "      <th>genre</th>\n",
       "      <th>rating</th>\n",
       "      <th>release_year</th>\n",
       "      <th>metascore</th>\n",
       "      <th>user_score</th>\n",
       "    </tr>\n",
       "  </thead>\n",
       "  <tbody>\n",
       "    <tr>\n",
       "      <td>0</td>\n",
       "      <td>Command &amp; Conquer</td>\n",
       "      <td>PC</td>\n",
       "      <td>Westwood Studios</td>\n",
       "      <td>Virgin Interactive</td>\n",
       "      <td>Sci-Fi</td>\n",
       "      <td>Teen 13+</td>\n",
       "      <td>1995</td>\n",
       "      <td>94</td>\n",
       "      <td>89</td>\n",
       "    </tr>\n",
       "    <tr>\n",
       "      <td>1</td>\n",
       "      <td>Full Throttle</td>\n",
       "      <td>PC</td>\n",
       "      <td>LucasArts</td>\n",
       "      <td>LucasArts</td>\n",
       "      <td>Adventure</td>\n",
       "      <td>Rating Pending</td>\n",
       "      <td>1995</td>\n",
       "      <td>86</td>\n",
       "      <td>87</td>\n",
       "    </tr>\n",
       "    <tr>\n",
       "      <td>2</td>\n",
       "      <td>Battle Arena Toshinden</td>\n",
       "      <td>PS</td>\n",
       "      <td>Tamsoft</td>\n",
       "      <td>SCEA</td>\n",
       "      <td>Action</td>\n",
       "      <td>Teen 13+</td>\n",
       "      <td>1995</td>\n",
       "      <td>69</td>\n",
       "      <td>58</td>\n",
       "    </tr>\n",
       "    <tr>\n",
       "      <td>3</td>\n",
       "      <td>Sid Meier's Civilization II</td>\n",
       "      <td>PC</td>\n",
       "      <td>MPS Labs</td>\n",
       "      <td>MicroProse</td>\n",
       "      <td>Strategy</td>\n",
       "      <td>Rating Pending</td>\n",
       "      <td>1996</td>\n",
       "      <td>94</td>\n",
       "      <td>89</td>\n",
       "    </tr>\n",
       "    <tr>\n",
       "      <td>4</td>\n",
       "      <td>Quake</td>\n",
       "      <td>PC</td>\n",
       "      <td>id Software</td>\n",
       "      <td>id Software</td>\n",
       "      <td>Action</td>\n",
       "      <td>Mature 17+</td>\n",
       "      <td>1996</td>\n",
       "      <td>94</td>\n",
       "      <td>88</td>\n",
       "    </tr>\n",
       "  </tbody>\n",
       "</table>\n",
       "</div>"
      ],
      "text/plain": [
       "                          name platform         developer           publisher  \\\n",
       "0            Command & Conquer       PC  Westwood Studios  Virgin Interactive   \n",
       "1                Full Throttle       PC         LucasArts           LucasArts   \n",
       "2       Battle Arena Toshinden       PS           Tamsoft                SCEA   \n",
       "3  Sid Meier's Civilization II       PC          MPS Labs          MicroProse   \n",
       "4                        Quake       PC       id Software         id Software   \n",
       "\n",
       "       genre          rating  release_year  metascore  user_score  \n",
       "0     Sci-Fi        Teen 13+          1995         94          89  \n",
       "1  Adventure  Rating Pending          1995         86          87  \n",
       "2     Action        Teen 13+          1995         69          58  \n",
       "3   Strategy  Rating Pending          1996         94          89  \n",
       "4     Action      Mature 17+          1996         94          88  "
      ]
     },
     "execution_count": 28,
     "metadata": {},
     "output_type": "execute_result"
    }
   ],
   "source": [
    "print(df.shape)\n",
    "df.head()"
   ]
  },
  {
   "cell_type": "code",
   "execution_count": 29,
   "metadata": {},
   "outputs": [],
   "source": [
    "# platform_boolean = []\n",
    "# for platform in df['platform']:\n",
    "#     if platform == 'PC':\n",
    "#         platform_boolean.append('PC')\n",
    "#     else:\n",
    "#         platform_boolean.append('Console')\n",
    "# df['platform_bool'] = platform_boolean\n",
    "\n",
    "# Segment our data into few ranges of years for analysis\n",
    "year_boolean = []\n",
    "for year in df['release_year']:\n",
    "    if year == 2013 or year == 2014:\n",
    "        year_boolean.append('13-14')\n",
    "    elif year == 2015 or year == 2016:\n",
    "        year_boolean.append('15-16')\n",
    "    elif year == 2017 or year == 2018:\n",
    "        year_boolean.append('17-18')\n",
    "    elif year < 2013:\n",
    "        year_boolean.append('Others')\n",
    "df['year_bool'] = year_boolean\n",
    "\n",
    "# To check average score between metascore and user score\n",
    "avg_score = []\n",
    "for i in range(0,len(df)):\n",
    "    avg_score.append((df.metascore[i] + df.user_score[i])/2)\n",
    "df['avg_score'] = avg_score\n",
    "\n",
    "# To display the description of the scoring system\n",
    "score_indication = []\n",
    "for score in df['avg_score']:\n",
    "    if score >= 90:\n",
    "        score_indication.append('Universal Acclaim')\n",
    "    elif score >= 75 and score <= 89:\n",
    "        score_indication.append('Favorable')\n",
    "    elif score >= 50 and score <= 74:\n",
    "        score_indication.append('Average')\n",
    "    elif score >= 20 and score <= 49:\n",
    "        score_indication.append('Unfavorable')\n",
    "    else:\n",
    "        score_indication.append('Overwhelming Dislike')\n",
    "df['score_indication'] = score_indication "
   ]
  },
  {
   "cell_type": "code",
   "execution_count": 30,
   "metadata": {
    "scrolled": false
   },
   "outputs": [
    {
     "data": {
      "text/html": [
       "<div>\n",
       "<style scoped>\n",
       "    .dataframe tbody tr th:only-of-type {\n",
       "        vertical-align: middle;\n",
       "    }\n",
       "\n",
       "    .dataframe tbody tr th {\n",
       "        vertical-align: top;\n",
       "    }\n",
       "\n",
       "    .dataframe thead th {\n",
       "        text-align: right;\n",
       "    }\n",
       "</style>\n",
       "<table border=\"1\" class=\"dataframe\">\n",
       "  <thead>\n",
       "    <tr style=\"text-align: right;\">\n",
       "      <th></th>\n",
       "      <th>name</th>\n",
       "      <th>platform</th>\n",
       "      <th>developer</th>\n",
       "      <th>publisher</th>\n",
       "      <th>genre</th>\n",
       "      <th>rating</th>\n",
       "      <th>release_year</th>\n",
       "      <th>year_bool</th>\n",
       "      <th>metascore</th>\n",
       "      <th>user_score</th>\n",
       "      <th>avg_score</th>\n",
       "      <th>score_indication</th>\n",
       "    </tr>\n",
       "  </thead>\n",
       "  <tbody>\n",
       "    <tr>\n",
       "      <td>0</td>\n",
       "      <td>Command &amp; Conquer</td>\n",
       "      <td>PC</td>\n",
       "      <td>Westwood Studios</td>\n",
       "      <td>Virgin Interactive</td>\n",
       "      <td>Sci-Fi</td>\n",
       "      <td>Teen 13+</td>\n",
       "      <td>1995</td>\n",
       "      <td>Others</td>\n",
       "      <td>94</td>\n",
       "      <td>89</td>\n",
       "      <td>91.5</td>\n",
       "      <td>Universal Acclaim</td>\n",
       "    </tr>\n",
       "    <tr>\n",
       "      <td>1</td>\n",
       "      <td>Full Throttle</td>\n",
       "      <td>PC</td>\n",
       "      <td>LucasArts</td>\n",
       "      <td>LucasArts</td>\n",
       "      <td>Adventure</td>\n",
       "      <td>Rating Pending</td>\n",
       "      <td>1995</td>\n",
       "      <td>Others</td>\n",
       "      <td>86</td>\n",
       "      <td>87</td>\n",
       "      <td>86.5</td>\n",
       "      <td>Favorable</td>\n",
       "    </tr>\n",
       "    <tr>\n",
       "      <td>2</td>\n",
       "      <td>Battle Arena Toshinden</td>\n",
       "      <td>PS</td>\n",
       "      <td>Tamsoft</td>\n",
       "      <td>SCEA</td>\n",
       "      <td>Action</td>\n",
       "      <td>Teen 13+</td>\n",
       "      <td>1995</td>\n",
       "      <td>Others</td>\n",
       "      <td>69</td>\n",
       "      <td>58</td>\n",
       "      <td>63.5</td>\n",
       "      <td>Average</td>\n",
       "    </tr>\n",
       "    <tr>\n",
       "      <td>3</td>\n",
       "      <td>Sid Meier's Civilization II</td>\n",
       "      <td>PC</td>\n",
       "      <td>MPS Labs</td>\n",
       "      <td>MicroProse</td>\n",
       "      <td>Strategy</td>\n",
       "      <td>Rating Pending</td>\n",
       "      <td>1996</td>\n",
       "      <td>Others</td>\n",
       "      <td>94</td>\n",
       "      <td>89</td>\n",
       "      <td>91.5</td>\n",
       "      <td>Universal Acclaim</td>\n",
       "    </tr>\n",
       "    <tr>\n",
       "      <td>4</td>\n",
       "      <td>Quake</td>\n",
       "      <td>PC</td>\n",
       "      <td>id Software</td>\n",
       "      <td>id Software</td>\n",
       "      <td>Action</td>\n",
       "      <td>Mature 17+</td>\n",
       "      <td>1996</td>\n",
       "      <td>Others</td>\n",
       "      <td>94</td>\n",
       "      <td>88</td>\n",
       "      <td>91.0</td>\n",
       "      <td>Universal Acclaim</td>\n",
       "    </tr>\n",
       "  </tbody>\n",
       "</table>\n",
       "</div>"
      ],
      "text/plain": [
       "                          name platform         developer           publisher  \\\n",
       "0            Command & Conquer       PC  Westwood Studios  Virgin Interactive   \n",
       "1                Full Throttle       PC         LucasArts           LucasArts   \n",
       "2       Battle Arena Toshinden       PS           Tamsoft                SCEA   \n",
       "3  Sid Meier's Civilization II       PC          MPS Labs          MicroProse   \n",
       "4                        Quake       PC       id Software         id Software   \n",
       "\n",
       "       genre          rating  release_year year_bool  metascore  user_score  \\\n",
       "0     Sci-Fi        Teen 13+          1995    Others         94          89   \n",
       "1  Adventure  Rating Pending          1995    Others         86          87   \n",
       "2     Action        Teen 13+          1995    Others         69          58   \n",
       "3   Strategy  Rating Pending          1996    Others         94          89   \n",
       "4     Action      Mature 17+          1996    Others         94          88   \n",
       "\n",
       "   avg_score   score_indication  \n",
       "0       91.5  Universal Acclaim  \n",
       "1       86.5          Favorable  \n",
       "2       63.5            Average  \n",
       "3       91.5  Universal Acclaim  \n",
       "4       91.0  Universal Acclaim  "
      ]
     },
     "execution_count": 30,
     "metadata": {},
     "output_type": "execute_result"
    }
   ],
   "source": [
    "# Re-index the column order\n",
    "df = df.reindex(columns=['name', 'platform', 'developer','publisher',\n",
    "                         'genre', 'rating', 'release_year','year_bool', \n",
    "                         'metascore', 'user_score', 'avg_score', 'score_indication'])\n",
    "df.head()"
   ]
  },
  {
   "cell_type": "markdown",
   "metadata": {},
   "source": [
    "Great! We now have a clean dataframe in the right format with no missing values. The dataframe has a shape of **12 columns x 20380 rows**. We can now begin our data analysis and hypothesis testing."
   ]
  },
  {
   "cell_type": "markdown",
   "metadata": {},
   "source": [
    "# Data Analysis "
   ]
  },
  {
   "cell_type": "markdown",
   "metadata": {},
   "source": [
    "## Hypothesis 1 (ANOVA Test)\n",
    "\n",
    "Due to the introduction of new genre in 2015 , expectation of potential customers towards the games is high. \n",
    "Thus, they might give lower rating to Action game.\n",
    "* **H0 : The user rating of Action in Year 13-14 , Year 15-16 and Year 17-18 have no differences.**\n",
    "* **H1 : The user rating of Action in Year 13-14 , Year 15-16 and Year 17-18 have significant difference.**"
   ]
  },
  {
   "cell_type": "code",
   "execution_count": 31,
   "metadata": {},
   "outputs": [
    {
     "data": {
      "text/html": [
       "<div>\n",
       "<style scoped>\n",
       "    .dataframe tbody tr th:only-of-type {\n",
       "        vertical-align: middle;\n",
       "    }\n",
       "\n",
       "    .dataframe tbody tr th {\n",
       "        vertical-align: top;\n",
       "    }\n",
       "\n",
       "    .dataframe thead th {\n",
       "        text-align: right;\n",
       "    }\n",
       "</style>\n",
       "<table border=\"1\" class=\"dataframe\">\n",
       "  <thead>\n",
       "    <tr style=\"text-align: right;\">\n",
       "      <th></th>\n",
       "      <th></th>\n",
       "      <th>count</th>\n",
       "      <th>mean</th>\n",
       "      <th>std</th>\n",
       "      <th>min</th>\n",
       "      <th>25%</th>\n",
       "      <th>50%</th>\n",
       "      <th>75%</th>\n",
       "      <th>max</th>\n",
       "    </tr>\n",
       "    <tr>\n",
       "      <th>year_bool</th>\n",
       "      <th>genre</th>\n",
       "      <th></th>\n",
       "      <th></th>\n",
       "      <th></th>\n",
       "      <th></th>\n",
       "      <th></th>\n",
       "      <th></th>\n",
       "      <th></th>\n",
       "      <th></th>\n",
       "    </tr>\n",
       "  </thead>\n",
       "  <tbody>\n",
       "    <tr>\n",
       "      <td>13-14</td>\n",
       "      <td>Action</td>\n",
       "      <td>780.0</td>\n",
       "      <td>66.532051</td>\n",
       "      <td>14.273246</td>\n",
       "      <td>10.0</td>\n",
       "      <td>60.0</td>\n",
       "      <td>70.0</td>\n",
       "      <td>76.0</td>\n",
       "      <td>91.0</td>\n",
       "    </tr>\n",
       "    <tr>\n",
       "      <td>15-16</td>\n",
       "      <td>Action</td>\n",
       "      <td>943.0</td>\n",
       "      <td>66.439024</td>\n",
       "      <td>13.302309</td>\n",
       "      <td>4.0</td>\n",
       "      <td>61.0</td>\n",
       "      <td>69.0</td>\n",
       "      <td>76.0</td>\n",
       "      <td>92.0</td>\n",
       "    </tr>\n",
       "    <tr>\n",
       "      <td>17-18</td>\n",
       "      <td>Action</td>\n",
       "      <td>1089.0</td>\n",
       "      <td>66.822773</td>\n",
       "      <td>14.308471</td>\n",
       "      <td>10.0</td>\n",
       "      <td>60.0</td>\n",
       "      <td>70.0</td>\n",
       "      <td>77.0</td>\n",
       "      <td>92.0</td>\n",
       "    </tr>\n",
       "    <tr>\n",
       "      <td>Others</td>\n",
       "      <td>Action</td>\n",
       "      <td>4288.0</td>\n",
       "      <td>70.090718</td>\n",
       "      <td>14.533117</td>\n",
       "      <td>12.0</td>\n",
       "      <td>63.0</td>\n",
       "      <td>74.0</td>\n",
       "      <td>80.0</td>\n",
       "      <td>92.0</td>\n",
       "    </tr>\n",
       "  </tbody>\n",
       "</table>\n",
       "</div>"
      ],
      "text/plain": [
       "                   count       mean        std   min   25%   50%   75%   max\n",
       "year_bool genre                                                             \n",
       "13-14     Action   780.0  66.532051  14.273246  10.0  60.0  70.0  76.0  91.0\n",
       "15-16     Action   943.0  66.439024  13.302309   4.0  61.0  69.0  76.0  92.0\n",
       "17-18     Action  1089.0  66.822773  14.308471  10.0  60.0  70.0  77.0  92.0\n",
       "Others    Action  4288.0  70.090718  14.533117  12.0  63.0  74.0  80.0  92.0"
      ]
     },
     "execution_count": 31,
     "metadata": {},
     "output_type": "execute_result"
    }
   ],
   "source": [
    "actiondf = df[df.genre == 'Action']\n",
    "actiondf[\"user_score\"].groupby([df.year_bool,df.genre]).describe()"
   ]
  },
  {
   "cell_type": "code",
   "execution_count": 32,
   "metadata": {},
   "outputs": [],
   "source": [
    "actiondf_1314 = actiondf[actiondf['year_bool'] == '13-14']\n",
    "actiondf_1516 = actiondf[actiondf['year_bool'] == '15-16']\n",
    "actiondf_1718 = actiondf[actiondf['year_bool'] == '17-18']"
   ]
  },
  {
   "cell_type": "code",
   "execution_count": 33,
   "metadata": {},
   "outputs": [],
   "source": [
    "sample_1314 = actiondf_1314.sample(100)\n",
    "sample_1516 = actiondf_1516.sample(100)\n",
    "sample_1718 = actiondf_1718.sample(100)\n",
    "\n",
    "sample_merged = pd.concat([sample_1314, sample_1516, sample_1718])"
   ]
  },
  {
   "cell_type": "code",
   "execution_count": 34,
   "metadata": {
    "scrolled": true
   },
   "outputs": [
    {
     "data": {
      "text/html": [
       "<div>\n",
       "<style scoped>\n",
       "    .dataframe tbody tr th:only-of-type {\n",
       "        vertical-align: middle;\n",
       "    }\n",
       "\n",
       "    .dataframe tbody tr th {\n",
       "        vertical-align: top;\n",
       "    }\n",
       "\n",
       "    .dataframe thead th {\n",
       "        text-align: right;\n",
       "    }\n",
       "</style>\n",
       "<table border=\"1\" class=\"dataframe\">\n",
       "  <thead>\n",
       "    <tr style=\"text-align: right;\">\n",
       "      <th></th>\n",
       "      <th>count</th>\n",
       "      <th>mean</th>\n",
       "      <th>std</th>\n",
       "      <th>min</th>\n",
       "      <th>25%</th>\n",
       "      <th>50%</th>\n",
       "      <th>75%</th>\n",
       "      <th>max</th>\n",
       "    </tr>\n",
       "    <tr>\n",
       "      <th>year_bool</th>\n",
       "      <th></th>\n",
       "      <th></th>\n",
       "      <th></th>\n",
       "      <th></th>\n",
       "      <th></th>\n",
       "      <th></th>\n",
       "      <th></th>\n",
       "      <th></th>\n",
       "    </tr>\n",
       "  </thead>\n",
       "  <tbody>\n",
       "    <tr>\n",
       "      <td>13-14</td>\n",
       "      <td>100.0</td>\n",
       "      <td>66.48</td>\n",
       "      <td>13.659259</td>\n",
       "      <td>13.0</td>\n",
       "      <td>62.00</td>\n",
       "      <td>69.5</td>\n",
       "      <td>75.00</td>\n",
       "      <td>87.0</td>\n",
       "    </tr>\n",
       "    <tr>\n",
       "      <td>15-16</td>\n",
       "      <td>100.0</td>\n",
       "      <td>63.35</td>\n",
       "      <td>13.056501</td>\n",
       "      <td>23.0</td>\n",
       "      <td>58.00</td>\n",
       "      <td>64.0</td>\n",
       "      <td>73.25</td>\n",
       "      <td>85.0</td>\n",
       "    </tr>\n",
       "    <tr>\n",
       "      <td>17-18</td>\n",
       "      <td>100.0</td>\n",
       "      <td>67.05</td>\n",
       "      <td>14.438567</td>\n",
       "      <td>12.0</td>\n",
       "      <td>60.75</td>\n",
       "      <td>69.5</td>\n",
       "      <td>76.25</td>\n",
       "      <td>87.0</td>\n",
       "    </tr>\n",
       "  </tbody>\n",
       "</table>\n",
       "</div>"
      ],
      "text/plain": [
       "           count   mean        std   min    25%   50%    75%   max\n",
       "year_bool                                                         \n",
       "13-14      100.0  66.48  13.659259  13.0  62.00  69.5  75.00  87.0\n",
       "15-16      100.0  63.35  13.056501  23.0  58.00  64.0  73.25  85.0\n",
       "17-18      100.0  67.05  14.438567  12.0  60.75  69.5  76.25  87.0"
      ]
     },
     "execution_count": 34,
     "metadata": {},
     "output_type": "execute_result"
    }
   ],
   "source": [
    "sample_merged['user_score'].groupby(by = sample_merged.year_bool).describe()"
   ]
  },
  {
   "cell_type": "markdown",
   "metadata": {},
   "source": [
    "## Normality Test"
   ]
  },
  {
   "cell_type": "markdown",
   "metadata": {},
   "source": [
    "ANOVA Assumptions\n",
    "1. The experimental errors of your data are normally distributed\n",
    "2. Equal variances between treatments Homogeneity of variances Homoscedasticity\n",
    "3. Independence of samples Each sample is randomly selected and independent."
   ]
  },
  {
   "cell_type": "code",
   "execution_count": 35,
   "metadata": {},
   "outputs": [
    {
     "data": {
      "text/plain": [
       "NormaltestResult(statistic=34.28948351633284, pvalue=3.582063338012057e-08)"
      ]
     },
     "execution_count": 35,
     "metadata": {},
     "output_type": "execute_result"
    }
   ],
   "source": [
    "scipy.stats.normaltest(sample_1314.user_score)\n",
    "scipy.stats.normaltest(sample_1516.user_score)\n",
    "scipy.stats.normaltest(sample_1718.user_score)"
   ]
  },
  {
   "cell_type": "code",
   "execution_count": 36,
   "metadata": {},
   "outputs": [
    {
     "data": {
      "text/plain": [
       "<matplotlib.axes._subplots.AxesSubplot at 0x2a347527fc8>"
      ]
     },
     "execution_count": 36,
     "metadata": {},
     "output_type": "execute_result"
    },
    {
     "data": {
      "image/png": "[encoded data removed]",
      "text/plain": [
       "<Figure size 432x288 with 1 Axes>"
      ]
     },
     "metadata": {},
     "output_type": "display_data"
    }
   ],
   "source": [
    "sns.distplot(sample_1314.user_score)\n",
    "sns.distplot(sample_1516.user_score)\n",
    "sns.distplot(sample_1718.user_score)"
   ]
  },
  {
   "cell_type": "code",
   "execution_count": 37,
   "metadata": {
    "scrolled": true
   },
   "outputs": [
    {
     "data": {
      "text/plain": [
       "<matplotlib.axes._subplots.AxesSubplot at 0x2a346924cc8>"
      ]
     },
     "execution_count": 37,
     "metadata": {},
     "output_type": "execute_result"
    },
    {
     "data": {
      "image/png": "[encoded data removed]",
      "text/plain": [
       "<Figure size 720x720 with 1 Axes>"
      ]
     },
     "metadata": {},
     "output_type": "display_data"
    }
   ],
   "source": [
    "fig = plt.subplots(figsize = (10,10))\n",
    "sns.boxplot(x='year_bool', y='user_score', data=sample_merged)"
   ]
  },
  {
   "cell_type": "markdown",
   "metadata": {},
   "source": [
    "From the graph above, we can improve it  by putting more samples. \n",
    "But, we assume this is ok for now."
   ]
  },
  {
   "cell_type": "markdown",
   "metadata": {},
   "source": [
    "We tested ANOVA test."
   ]
  },
  {
   "cell_type": "code",
   "execution_count": 38,
   "metadata": {
    "scrolled": true
   },
   "outputs": [
    {
     "name": "stdout",
     "output_type": "stream",
     "text": [
      "                 df        sum_sq     mean_sq         F    PR(>F)\n",
      "C(year_bool)    2.0    793.726667  396.863333  2.105302  0.123623\n",
      "Residual      297.0  55986.460000  188.506599       NaN       NaN\n"
     ]
    }
   ],
   "source": [
    "formula = 'user_score ~ C(year_bool)'\n",
    "lm = ols(formula, sample_merged).fit()\n",
    "table = sm.stats.anova_lm(lm, typ=1)\n",
    "print(table)"
   ]
  },
  {
   "cell_type": "markdown",
   "metadata": {},
   "source": [
    "We found out there are not any differences between years (0.05 < 0.25).\n",
    "To check further, We took \"Tukey Test\" to see the relationship between years in details."
   ]
  },
  {
   "cell_type": "code",
   "execution_count": 39,
   "metadata": {
    "scrolled": true
   },
   "outputs": [
    {
     "name": "stdout",
     "output_type": "stream",
     "text": [
      "Multiple Comparison of Means - Tukey HSD, FWER=0.05\n",
      "===================================================\n",
      "group1 group2 meandiff p-adj   lower  upper  reject\n",
      "---------------------------------------------------\n",
      " 13-14  15-16    -3.13 0.2424 -7.7039 1.4439  False\n",
      " 13-14  17-18     0.57    0.9 -4.0039 5.1439  False\n",
      " 15-16  17-18      3.7 0.1389 -0.8739 8.2739  False\n",
      "---------------------------------------------------\n"
     ]
    }
   ],
   "source": [
    "mc = MultiComparison(sample_merged.user_score, sample_merged.year_bool)\n",
    "mc_results = mc.tukeyhsd()\n",
    "print(mc_results)"
   ]
  },
  {
   "cell_type": "markdown",
   "metadata": {},
   "source": [
    "Tukey test confirmed us that there are no differences.\n",
    "Therefore, we cannot reject null hypothesis and \n",
    "We concluded that \" The user rating of Action in Year 13-14 , Year 15-16 and Year 17-18 have no differences.\""
   ]
  },
  {
   "cell_type": "markdown",
   "metadata": {},
   "source": [
    "## Hypothesis 2 : Atlus vs Zen Studios vs Ubisoft (ANOVA)"
   ]
  },
  {
   "cell_type": "markdown",
   "metadata": {},
   "source": [
    "For this hypothesis test, we aim to compare 3 publishing powerhouses in the gaming industry, namely Atlus, Ubisoft and Zen Studios. \n",
    "* Atlus is a japanese company, known for their Sega games like Super Sonic and work closely with Nintendo games developer.\n",
    "* Ubisoft is one of the top gaming developer and publisher, known for famous RPG games like the Assassin's Creed and Tom Clancy series.\n",
    "* Zen Studios is a Hungarian company focuses on simplistic revamped classic games like Pinball and CastleStorm."
   ]
  },
  {
   "cell_type": "markdown",
   "metadata": {},
   "source": [
    "The goal of this experiment is to see which publisher/distributer performs better with the critics, given their reputation."
   ]
  },
  {
   "cell_type": "markdown",
   "metadata": {},
   "source": [
    "* **H0 : The 3 companies perform equally well on metascore**\n",
    "* **H1 : The 3 companies do not perform equally well on metascore**"
   ]
  },
  {
   "cell_type": "code",
   "execution_count": 40,
   "metadata": {},
   "outputs": [],
   "source": [
    "df_ubisoft = df[df.publisher == 'Ubisoft']\n",
    "df_atlus = df[df.publisher == 'Atlus']\n",
    "df_zen = df[df.publisher == 'Zen Studios']"
   ]
  },
  {
   "cell_type": "code",
   "execution_count": 41,
   "metadata": {},
   "outputs": [],
   "source": [
    "sample_ubisoft = df_ubisoft.sample(50)\n",
    "sample_atlus = df_atlus.sample(50)\n",
    "sample_zen = df_zen.sample(50)\n",
    "\n",
    "sample_merged = pd.concat([sample_ubisoft,sample_atlus, sample_zen])"
   ]
  },
  {
   "cell_type": "markdown",
   "metadata": {},
   "source": [
    "We first plot the boxplot comparison to visually inspect the difference between mean, as below:"
   ]
  },
  {
   "cell_type": "code",
   "execution_count": 42,
   "metadata": {
    "scrolled": true
   },
   "outputs": [
    {
     "data": {
      "text/plain": [
       "<matplotlib.axes._subplots.AxesSubplot at 0x2a346fa4cc8>"
      ]
     },
     "execution_count": 42,
     "metadata": {},
     "output_type": "execute_result"
    },
    {
     "data": {
      "image/png": "[encoded data removed]",
      "text/plain": [
       "<Figure size 720x720 with 1 Axes>"
      ]
     },
     "metadata": {},
     "output_type": "display_data"
    }
   ],
   "source": [
    "fig = plt.subplots(figsize = (10,10))\n",
    "sns.boxplot(x='publisher', y='metascore', data=sample_merged)"
   ]
  },
  {
   "cell_type": "markdown",
   "metadata": {},
   "source": [
    "Before proceeding to ANOVA testing, we do a quick normality check to see if we satisfies the normality condition for ANOVA."
   ]
  },
  {
   "cell_type": "code",
   "execution_count": 43,
   "metadata": {},
   "outputs": [
    {
     "data": {
      "text/plain": [
       "<matplotlib.axes._subplots.AxesSubplot at 0x2a346ca9cc8>"
      ]
     },
     "execution_count": 43,
     "metadata": {},
     "output_type": "execute_result"
    },
    {
     "data": {
      "image/png": "[encoded data removed]",
      "text/plain": [
       "<Figure size 432x288 with 1 Axes>"
      ]
     },
     "metadata": {},
     "output_type": "display_data"
    }
   ],
   "source": [
    "sns.distplot(sample_zen.metascore)\n",
    "sns.distplot(sample_ubisoft.metascore)\n",
    "sns.distplot(sample_atlus.metascore)"
   ]
  },
  {
   "cell_type": "code",
   "execution_count": 44,
   "metadata": {},
   "outputs": [
    {
     "data": {
      "text/plain": [
       "NormaltestResult(statistic=3.1724650436109045, pvalue=0.20469534609798715)"
      ]
     },
     "execution_count": 44,
     "metadata": {},
     "output_type": "execute_result"
    }
   ],
   "source": [
    "scipy.stats.normaltest(sample_zen.metascore)\n",
    "scipy.stats.normaltest(sample_atlus.metascore)\n",
    "scipy.stats.normaltest(sample_ubisoft.metascore)"
   ]
  },
  {
   "cell_type": "markdown",
   "metadata": {},
   "source": [
    "As we are comparing 3 groups, we take 50 random samples from each group and conduct an ANOVA to check for statistically siginificant F-value and P-value to proceed with our analysis."
   ]
  },
  {
   "cell_type": "code",
   "execution_count": 45,
   "metadata": {
    "scrolled": true
   },
   "outputs": [
    {
     "name": "stdout",
     "output_type": "stream",
     "text": [
      "                 df    sum_sq      mean_sq          F   PR(>F)\n",
      "C(publisher)    2.0   2526.24  1263.120000  11.192324  0.00003\n",
      "Residual      147.0  16589.82   112.855918        NaN      NaN\n"
     ]
    }
   ],
   "source": [
    "formula = 'metascore ~  C(publisher)'\n",
    "lm = ols(formula, sample_merged).fit()\n",
    "table = sm.stats.anova_lm(lm, typ=1)\n",
    "print(table)"
   ]
  },
  {
   "cell_type": "markdown",
   "metadata": {},
   "source": [
    "From the ANOVA result, we can see a p-value of 0.005, which indicates statistical significance as it is below alpha value of 0.05. We then proceed to perform a Tukey multiple comparison test."
   ]
  },
  {
   "cell_type": "code",
   "execution_count": 46,
   "metadata": {},
   "outputs": [
    {
     "name": "stdout",
     "output_type": "stream",
     "text": [
      "  Multiple Comparison of Means - Tukey HSD, FWER=0.05   \n",
      "========================================================\n",
      " group1    group2   meandiff p-adj  lower  upper  reject\n",
      "--------------------------------------------------------\n",
      "  Atlus     Ubisoft    -2.64  0.432 -7.671  2.391  False\n",
      "  Atlus Zen Studios     7.08 0.0031  2.049 12.111   True\n",
      "Ubisoft Zen Studios     9.72  0.001  4.689 14.751   True\n",
      "--------------------------------------------------------\n"
     ]
    }
   ],
   "source": [
    "mc = MultiComparison(sample_merged.metascore, sample_merged.publisher)\n",
    "mc_results = mc.tukeyhsd()\n",
    "print(mc_results)"
   ]
  },
  {
   "cell_type": "markdown",
   "metadata": {},
   "source": [
    "From the Tukey results table, we can see that for Atlus vs Ubisoft, the null hypothesis was not rejected while the null hypothesis was rejected when Zen Studios was compared against Atlus and Ubisoft."
   ]
  },
  {
   "cell_type": "code",
   "execution_count": 47,
   "metadata": {},
   "outputs": [
    {
     "name": "stdout",
     "output_type": "stream",
     "text": [
      "The effect size observed between Atlus and Zen Studios is 0.707897434536649\n",
      "The effect size observed between Ubisoft and Zen Studios is 0.9156797971347684\n"
     ]
    }
   ],
   "source": [
    "print(f\"The effect size observed between Atlus and Zen Studios is {(cohen_d(sample_atlus.metascore, sample_zen.metascore))}\")\n",
    "print(f\"The effect size observed between Ubisoft and Zen Studios is {(cohen_d(sample_ubisoft.metascore, sample_zen.metascore))}\")"
   ]
  },
  {
   "cell_type": "markdown",
   "metadata": {},
   "source": [
    "## Hypothesis 3 - Investigate to what extent it is worth investing PR spend in engaging video game reviewers in the PC market"
   ]
  },
  {
   "cell_type": "markdown",
   "metadata": {},
   "source": [
    "**Business Question**\n",
    "\n",
    "Do professional reviewers give consistently higher ratings for PC games than users in a **significant** way? \n",
    "\n",
    "**Business Decsision**\n",
    "\n",
    "Professional reviewers help games sales for PCs, however to what extent is it worth engaging PR spend into engaging with professional reviews, as opposed to investing more in user generated content on social media\n",
    "\n",
    "**Data Science Question**\n",
    "\n",
    "H0 = ReviewerRatingMean = UserRatingMean\n",
    "\n",
    "H1 = ReviewerRatingMean > UserRatingMean\n",
    "\n",
    "Effect size (Cohen's D) > 0.8\n",
    "\n",
    "Type 1 error rate = 0.05\n",
    "Type 2 error rate = 0.9"
   ]
  },
  {
   "cell_type": "code",
   "execution_count": 48,
   "metadata": {},
   "outputs": [],
   "source": [
    "#isolate PC games only for the dataset\n",
    "\n",
    "PC_df = df[df.platform == 'PC']\n",
    "\n",
    "reviewer_population = PC_df[\"metascore\"] #reviewer ratings\n",
    "user_population = PC_df[\"user_score\"] #user ratings"
   ]
  },
  {
   "cell_type": "code",
   "execution_count": 49,
   "metadata": {
    "scrolled": true
   },
   "outputs": [
    {
     "data": {
      "image/png": "[encoded data removed]",
      "text/plain": [
       "<Figure size 720x288 with 1 Axes>"
      ]
     },
     "metadata": {},
     "output_type": "display_data"
    }
   ],
   "source": [
    "plt.figure(figsize=(10,4))\n",
    "reviewer_population_plot = sns.distplot(reviewer_population, axlabel = \"score\");\n",
    "user_population_plot = sns.distplot(user_population, axlabel = \"score\");\n",
    "plt.show()"
   ]
  },
  {
   "cell_type": "markdown",
   "metadata": {},
   "source": [
    "Looking at the data we can see that it is noisy and that it 'looks' like there is no significant difference between user ratings (orange) and reviewer ratings (blue). We need to investigate more deeply to see if thi is really the case."
   ]
  },
  {
   "cell_type": "markdown",
   "metadata": {},
   "source": [
    "## Test Choice\n",
    "Looking at some summary statistics for the variables we are interested in:"
   ]
  },
  {
   "cell_type": "code",
   "execution_count": 50,
   "metadata": {},
   "outputs": [
    {
     "data": {
      "text/plain": [
       "157"
      ]
     },
     "execution_count": 50,
     "metadata": {},
     "output_type": "execute_result"
    }
   ],
   "source": [
    "round(reviewer_population.var())"
   ]
  },
  {
   "cell_type": "code",
   "execution_count": 51,
   "metadata": {},
   "outputs": [
    {
     "data": {
      "text/plain": [
       "194"
      ]
     },
     "execution_count": 51,
     "metadata": {},
     "output_type": "execute_result"
    }
   ],
   "source": [
    "round(user_population.var())"
   ]
  },
  {
   "cell_type": "markdown",
   "metadata": {},
   "source": [
    "Although the population sizes are the same and we can draw the same sample sizes from both, the variance is significantly different making this suitable for a Welch's T-Test."
   ]
  },
  {
   "cell_type": "markdown",
   "metadata": {},
   "source": [
    "### How many samples do we need to use in order to find the effect we are looking for, if it is there?"
   ]
  },
  {
   "cell_type": "code",
   "execution_count": 52,
   "metadata": {
    "scrolled": true
   },
   "outputs": [
    {
     "data": {
      "text/plain": [
       "34"
      ]
     },
     "execution_count": 52,
     "metadata": {},
     "output_type": "execute_result"
    }
   ],
   "source": [
    "#Power analysis in order to calculate the number of samples needed to confident we can observe the effect \n",
    "#we are looking for, if it exists\n",
    "\n",
    "analysis = TTestIndPower()\n",
    "effect = 0.8 #we are looking for a significant increase which in term of Cohen's D means >= 0.8\n",
    "alpha = 0.05 #this is the equivalent to a 5% type 1 error rate (false positive)\n",
    "power = 0.9 #this is the equivalent to a 10% type 2 error rate (false negative)\n",
    "\n",
    "required_sample_size = analysis.solve_power(effect, \n",
    "                                    power = power, \n",
    "                                    nobs1 = None, \n",
    "                                    ratio = 1, \n",
    "                                    alpha = alpha)\n",
    "round(required_sample_size)"
   ]
  },
  {
   "cell_type": "markdown",
   "metadata": {},
   "source": [
    "We only need 34 random samples from the population in order to observe a 'significant' effect if it exists, however given the simplicity of the problem, size of the data set and how cheap processing power is these days we can do more than this for the test."
   ]
  },
  {
   "cell_type": "markdown",
   "metadata": {},
   "source": [
    "## Creating the Samples for the test"
   ]
  },
  {
   "cell_type": "code",
   "execution_count": 53,
   "metadata": {},
   "outputs": [],
   "source": [
    "#Here we are creating sample distributions for both user and editor reviews, \n",
    "#we are doing this 1,000 time across 1,000 time each \n",
    "user_sample_dist = create_sample_distribution(user_population) #user review sample distribution\n",
    "meta_sample_dist = create_sample_distribution(reviewer_population) #professional reviewer sample distribution"
   ]
  },
  {
   "cell_type": "code",
   "execution_count": 54,
   "metadata": {},
   "outputs": [
    {
     "data": {
      "image/png": "[encoded data removed]",
      "text/plain": [
       "<Figure size 432x288 with 1 Axes>"
      ]
     },
     "metadata": {},
     "output_type": "display_data"
    }
   ],
   "source": [
    "#Here we plot both sample distributions and we can see a marked difference between each sample\n",
    "sns.distplot(user_sample_dist);\n",
    "sns.distplot(meta_sample_dist);"
   ]
  },
  {
   "cell_type": "markdown",
   "metadata": {},
   "source": [
    "There is a marked difference between each sampling distribution suggesting a larger difference than that given by the population distribution above."
   ]
  },
  {
   "cell_type": "code",
   "execution_count": 55,
   "metadata": {},
   "outputs": [],
   "source": [
    "#convert data in Pandas format for analysis\n",
    "\n",
    "meta_sample_dist_series = pd.Series(meta_sample_dist)\n",
    "user_sample_dist_series = pd.Series(user_sample_dist)"
   ]
  },
  {
   "cell_type": "code",
   "execution_count": 56,
   "metadata": {},
   "outputs": [
    {
     "data": {
      "text/plain": [
       "0.0"
      ]
     },
     "execution_count": 56,
     "metadata": {},
     "output_type": "execute_result"
    }
   ],
   "source": [
    "#Calculate P value\n",
    "p_value(meta_sample_dist_series, user_sample_dist_series)"
   ]
  },
  {
   "cell_type": "code",
   "execution_count": 57,
   "metadata": {},
   "outputs": [
    {
     "data": {
      "text/plain": [
       "3.7832734154414043"
      ]
     },
     "execution_count": 57,
     "metadata": {},
     "output_type": "execute_result"
    }
   ],
   "source": [
    "#Calculate Effect size\n",
    "cohen_d(meta_sample_dist_series, user_sample_dist_series)"
   ]
  },
  {
   "cell_type": "markdown",
   "metadata": {},
   "source": [
    "We can confidently reject the null hypothesis where we can say that reviwers do give higher reviews than users in a statistically significant way. Also, the effect is significant (>0.8). "
   ]
  },
  {
   "cell_type": "markdown",
   "metadata": {},
   "source": [
    "## Is the test valid?\n",
    "\n",
    "We have to check that the sample distributions obey the normality condition in order to ensure our test is valid. We do this by running QQ plots on the sampling distributions and if they are a straightline then the sample data is normally distributed."
   ]
  },
  {
   "cell_type": "code",
   "execution_count": 58,
   "metadata": {},
   "outputs": [
    {
     "data": {
      "image/png": "[encoded data removed]",
      "text/plain": [
       "<Figure size 432x288 with 1 Axes>"
      ]
     },
     "metadata": {},
     "output_type": "display_data"
    }
   ],
   "source": [
    "sm.qqplot(meta_sample_dist_series, line = 's'); # professional reviwer QQ plot"
   ]
  },
  {
   "cell_type": "code",
   "execution_count": 59,
   "metadata": {},
   "outputs": [
    {
     "data": {
      "image/png": "[encoded data removed]",
      "text/plain": [
       "<Figure size 432x288 with 1 Axes>"
      ]
     },
     "metadata": {},
     "output_type": "display_data"
    }
   ],
   "source": [
    "sm.qqplot(user_sample_dist_series, line = 's'); #user review QQ plot"
   ]
  },
  {
   "cell_type": "markdown",
   "metadata": {},
   "source": [
    "As we can see we have straigt lines in both cases and so the test is valid."
   ]
  }
 ],
 "metadata": {
  "kernelspec": {
   "display_name": "Python 3",
   "language": "python",
   "name": "python3"
  },
  "language_info": {
   "codemirror_mode": {
    "name": "ipython",
    "version": 3
   },
   "file_extension": ".py",
   "mimetype": "text/x-python",
   "name": "python",
   "nbconvert_exporter": "python",
   "pygments_lexer": "ipython3",
   "version": "3.7.4"
  }
 },
 "nbformat": 4,
 "nbformat_minor": 2
}
